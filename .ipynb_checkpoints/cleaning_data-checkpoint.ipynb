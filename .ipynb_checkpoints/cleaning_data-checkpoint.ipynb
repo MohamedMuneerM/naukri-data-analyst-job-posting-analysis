{
 "cells": [
  {
   "cell_type": "code",
   "execution_count": 41,
   "id": "ad537636",
   "metadata": {},
   "outputs": [],
   "source": [
    "import numpy as np\n",
    "import pandas as pd\n",
    "import seaborn as sns\n",
    "from collections import Counter\n",
    "from itertools import chain"
   ]
  },
  {
   "cell_type": "code",
   "execution_count": 2,
   "id": "2e2217b2",
   "metadata": {},
   "outputs": [],
   "source": [
    "df = pd.read_json(\"naukri_data_all.json\")"
   ]
  },
  {
   "cell_type": "code",
   "execution_count": 5,
   "id": "e32e64de",
   "metadata": {
    "scrolled": false
   },
   "outputs": [
    {
     "data": {
      "text/html": [
       "<div>\n",
       "<style scoped>\n",
       "    .dataframe tbody tr th:only-of-type {\n",
       "        vertical-align: middle;\n",
       "    }\n",
       "\n",
       "    .dataframe tbody tr th {\n",
       "        vertical-align: top;\n",
       "    }\n",
       "\n",
       "    .dataframe thead th {\n",
       "        text-align: right;\n",
       "    }\n",
       "</style>\n",
       "<table border=\"1\" class=\"dataframe\">\n",
       "  <thead>\n",
       "    <tr style=\"text-align: right;\">\n",
       "      <th></th>\n",
       "      <th>job_title</th>\n",
       "      <th>company_name</th>\n",
       "      <th>experience</th>\n",
       "      <th>salary</th>\n",
       "      <th>location</th>\n",
       "      <th>job_description</th>\n",
       "      <th>role</th>\n",
       "      <th>industry_type</th>\n",
       "      <th>department</th>\n",
       "      <th>employment_type</th>\n",
       "      <th>role_category</th>\n",
       "      <th>education</th>\n",
       "      <th>key_skills</th>\n",
       "      <th>date_posted</th>\n",
       "      <th>num_openings</th>\n",
       "      <th>num_applicants</th>\n",
       "    </tr>\n",
       "  </thead>\n",
       "  <tbody>\n",
       "    <tr>\n",
       "      <th>0</th>\n",
       "      <td>Data Analyst (0-2yrs) Bangalore</td>\n",
       "      <td>Gupta And Sharma</td>\n",
       "      <td>0 - 2 years</td>\n",
       "      <td>₹ 3,50,000 - 6,00,000 P.A.</td>\n",
       "      <td>Bangalore/Bengaluru( Whitefield )</td>\n",
       "      <td>Roles and Responsibilities\\nAcquiring data fro...</td>\n",
       "      <td>Data Analyst</td>\n",
       "      <td>Banking</td>\n",
       "      <td>Data Science &amp; Analytics</td>\n",
       "      <td>Full Time, Permanent</td>\n",
       "      <td>Business Intelligence &amp; Analytics</td>\n",
       "      <td>B.Tech/B.E. in Computers, B.Sc in Computers, B...</td>\n",
       "      <td>[plsql, excel, data analysis, sas, oracle sql,...</td>\n",
       "      <td>1 day ago</td>\n",
       "      <td>3.0</td>\n",
       "      <td>2647</td>\n",
       "    </tr>\n",
       "    <tr>\n",
       "      <th>1</th>\n",
       "      <td>French Data Analyst</td>\n",
       "      <td>Randstad</td>\n",
       "      <td>0 - 1 years</td>\n",
       "      <td>₹ 2,50,000 - 3,50,000 P.A.</td>\n",
       "      <td>PAN India</td>\n",
       "      <td>Roles and Responsibilities\\n\\nJob Description:...</td>\n",
       "      <td>Data Analyst</td>\n",
       "      <td>IT Services &amp; Consulting</td>\n",
       "      <td>Data Science &amp; Analytics</td>\n",
       "      <td>Full Time, Permanent</td>\n",
       "      <td>Business Intelligence &amp; Analytics</td>\n",
       "      <td>Any Graduate</td>\n",
       "      <td>[Bi-lingual French, French Data Analyst]</td>\n",
       "      <td>1 day ago</td>\n",
       "      <td>NaN</td>\n",
       "      <td>145</td>\n",
       "    </tr>\n",
       "    <tr>\n",
       "      <th>2</th>\n",
       "      <td>Data Analyst</td>\n",
       "      <td>Namdhari Seeds3.7(44 Reviews)</td>\n",
       "      <td>0 - 2 years</td>\n",
       "      <td>Not Disclosed</td>\n",
       "      <td>Bangalore/Bengaluru</td>\n",
       "      <td>Roles and Responsibilities\\nCreate and validat...</td>\n",
       "      <td>Other</td>\n",
       "      <td>Agriculture / Forestry / Fishing</td>\n",
       "      <td>Other</td>\n",
       "      <td>Full Time, Permanent</td>\n",
       "      <td>Other</td>\n",
       "      <td>MBA/PGDM in Any Specialization</td>\n",
       "      <td>[supply chain operations, data analytics, dash...</td>\n",
       "      <td>13 days ago</td>\n",
       "      <td>NaN</td>\n",
       "      <td>8751</td>\n",
       "    </tr>\n",
       "    <tr>\n",
       "      <th>3</th>\n",
       "      <td>Business Analyst/ Software Analyst/ Data Analyst</td>\n",
       "      <td>Optiontown2.4(24 Reviews)</td>\n",
       "      <td>0 - 2 years</td>\n",
       "      <td>₹ 4,00,000 - 7,00,000 P.A.</td>\n",
       "      <td>New Delhi( Rani Bagh )</td>\n",
       "      <td>Analysts will leverage analytic, quantitative ...</td>\n",
       "      <td>Business Analyst</td>\n",
       "      <td>Aviation</td>\n",
       "      <td>Data Science &amp; Analytics</td>\n",
       "      <td>Full Time, Permanent</td>\n",
       "      <td>Business Intelligence &amp; Analytics</td>\n",
       "      <td>B.Tech/B.E. in Any Specialization</td>\n",
       "      <td>[Analysis, Predictive Modeling, Requirement Ga...</td>\n",
       "      <td>1 day ago</td>\n",
       "      <td>NaN</td>\n",
       "      <td>1358</td>\n",
       "    </tr>\n",
       "    <tr>\n",
       "      <th>4</th>\n",
       "      <td>HR Data Analyst</td>\n",
       "      <td>Walmart4.2(12887 Reviews)</td>\n",
       "      <td>2 - 5 years</td>\n",
       "      <td>Not Disclosed</td>\n",
       "      <td>Bangalore/Bengaluru</td>\n",
       "      <td>Data Analyst - TA Position summary:\\nDemonstra...</td>\n",
       "      <td>HR Analyst</td>\n",
       "      <td>Software Product</td>\n",
       "      <td>Human Resources</td>\n",
       "      <td>Full Time, Temporary/Contractual</td>\n",
       "      <td>HR Operations</td>\n",
       "      <td>Any Graduate</td>\n",
       "      <td>[Excel Report Preparation, excel, data analyti...</td>\n",
       "      <td>Few Hours Ago</td>\n",
       "      <td>NaN</td>\n",
       "      <td>50</td>\n",
       "    </tr>\n",
       "  </tbody>\n",
       "</table>\n",
       "</div>"
      ],
      "text/plain": [
       "                                          job_title  \\\n",
       "0                   Data Analyst (0-2yrs) Bangalore   \n",
       "1                               French Data Analyst   \n",
       "2                                      Data Analyst   \n",
       "3  Business Analyst/ Software Analyst/ Data Analyst   \n",
       "4                                   HR Data Analyst   \n",
       "\n",
       "                    company_name   experience                      salary  \\\n",
       "0               Gupta And Sharma  0 - 2 years  ₹ 3,50,000 - 6,00,000 P.A.   \n",
       "1                       Randstad  0 - 1 years  ₹ 2,50,000 - 3,50,000 P.A.   \n",
       "2  Namdhari Seeds3.7(44 Reviews)  0 - 2 years               Not Disclosed   \n",
       "3      Optiontown2.4(24 Reviews)  0 - 2 years  ₹ 4,00,000 - 7,00,000 P.A.   \n",
       "4      Walmart4.2(12887 Reviews)  2 - 5 years               Not Disclosed   \n",
       "\n",
       "                            location  \\\n",
       "0  Bangalore/Bengaluru( Whitefield )   \n",
       "1                          PAN India   \n",
       "2                Bangalore/Bengaluru   \n",
       "3             New Delhi( Rani Bagh )   \n",
       "4                Bangalore/Bengaluru   \n",
       "\n",
       "                                     job_description              role  \\\n",
       "0  Roles and Responsibilities\\nAcquiring data fro...      Data Analyst   \n",
       "1  Roles and Responsibilities\\n\\nJob Description:...      Data Analyst   \n",
       "2  Roles and Responsibilities\\nCreate and validat...             Other   \n",
       "3  Analysts will leverage analytic, quantitative ...  Business Analyst   \n",
       "4  Data Analyst - TA Position summary:\\nDemonstra...        HR Analyst   \n",
       "\n",
       "                      industry_type                department  \\\n",
       "0                           Banking  Data Science & Analytics   \n",
       "1          IT Services & Consulting  Data Science & Analytics   \n",
       "2  Agriculture / Forestry / Fishing                     Other   \n",
       "3                          Aviation  Data Science & Analytics   \n",
       "4                  Software Product           Human Resources   \n",
       "\n",
       "                    employment_type                      role_category  \\\n",
       "0              Full Time, Permanent  Business Intelligence & Analytics   \n",
       "1              Full Time, Permanent  Business Intelligence & Analytics   \n",
       "2              Full Time, Permanent                              Other   \n",
       "3              Full Time, Permanent  Business Intelligence & Analytics   \n",
       "4  Full Time, Temporary/Contractual                      HR Operations   \n",
       "\n",
       "                                           education  \\\n",
       "0  B.Tech/B.E. in Computers, B.Sc in Computers, B...   \n",
       "1                                       Any Graduate   \n",
       "2                     MBA/PGDM in Any Specialization   \n",
       "3                  B.Tech/B.E. in Any Specialization   \n",
       "4                                       Any Graduate   \n",
       "\n",
       "                                          key_skills    date_posted  \\\n",
       "0  [plsql, excel, data analysis, sas, oracle sql,...      1 day ago   \n",
       "1           [Bi-lingual French, French Data Analyst]      1 day ago   \n",
       "2  [supply chain operations, data analytics, dash...    13 days ago   \n",
       "3  [Analysis, Predictive Modeling, Requirement Ga...      1 day ago   \n",
       "4  [Excel Report Preparation, excel, data analyti...  Few Hours Ago   \n",
       "\n",
       "   num_openings num_applicants  \n",
       "0           3.0           2647  \n",
       "1           NaN            145  \n",
       "2           NaN           8751  \n",
       "3           NaN           1358  \n",
       "4           NaN             50  "
      ]
     },
     "execution_count": 5,
     "metadata": {},
     "output_type": "execute_result"
    }
   ],
   "source": [
    "df.head()"
   ]
  },
  {
   "cell_type": "code",
   "execution_count": 7,
   "id": "e7eb17ad",
   "metadata": {
    "scrolled": true
   },
   "outputs": [
    {
     "data": {
      "text/plain": [
       "array(['Data Analyst', 'Other', 'Business Analyst', 'HR Analyst',\n",
       "       'Data Science & Analytics - Other', 'Service Engineer',\n",
       "       'Investment Banking Analyst',\n",
       "       'Business Intelligence & Analytics - Other', 'Financial Analyst',\n",
       "       'Research & Development - Other', 'Social Media Marketing',\n",
       "       'Technical Consultant', 'IT & Information Security - Other',\n",
       "       'Software Development - Other', 'System Analyst',\n",
       "       'Database Analyst', 'MIS Executive',\n",
       "       'Non Tech Support - Voice / Blended', 'Technical Lead',\n",
       "       'Database Architect / Designer', 'Database Administrator',\n",
       "       'IT Support - Other', 'Marketing - Other',\n",
       "       'Analytics / BI Manager', 'Data Engineer', 'Statistician',\n",
       "       'MIS Manager', 'Database Developer / Engineer',\n",
       "       'Sales Support & Operations - Other',\n",
       "       'Market Research / Insights Head', 'Research Analyst',\n",
       "       'Back End Developer', 'Non Tech Support - Non Voice',\n",
       "       'Product Manager - Other', 'Regulatory Affairs Compliance',\n",
       "       'Security Engineer / Analyst',\n",
       "       'Business Development Manager (BDM)', 'Business - Other',\n",
       "       'Operations Support - Other', 'Team Leader', 'Technical Architect',\n",
       "       'BFSI', 'Production / Manufacturing Head', 'Data Scientist',\n",
       "       'DBA / Data warehousing - Other', 'Operations - Other',\n",
       "       'Analytics Consultant', 'Data warehouse Developer',\n",
       "       'IT Project Lead', 'Research Associate / Engineer',\n",
       "       'Manager - Data Science', 'Product Analyst',\n",
       "       'IT Consulting - Other', 'Branch Sales Executive',\n",
       "       'Accountant / Accounts Executive', 'Clinical research Scientist',\n",
       "       'Product Manager', 'Full Stack Developer',\n",
       "       'Customer Success Manager',\n",
       "       'Data warehouse Architect / Consultant', 'Research Scientist',\n",
       "       'HR Generalist', 'Recruitment & Talent Acquisition - Other',\n",
       "       'System Security Engineer', 'Sr. Consultant', 'Country Head',\n",
       "       'Logistics Executive', 'Technical Support - Voice / Blended',\n",
       "       'BI Developer', 'Market Research Manager',\n",
       "       'BD / Pre Sales - Other', 'Technical Support - Non Voice',\n",
       "       'Network Manager / Administrator'], dtype=object)"
      ]
     },
     "execution_count": 7,
     "metadata": {},
     "output_type": "execute_result"
    }
   ],
   "source": [
    "df['role'].unique()"
   ]
  },
  {
   "cell_type": "code",
   "execution_count": 8,
   "id": "9edd82e9",
   "metadata": {
    "scrolled": true
   },
   "outputs": [
    {
     "data": {
      "text/plain": [
       "array(['B.Tech/B.E. in Computers, B.Sc in Computers, BCA in Computers',\n",
       "       'Any Graduate', 'MBA/PGDM in Any Specialization',\n",
       "       'B.Tech/B.E. in Any Specialization', 'Other Post Graduate',\n",
       "       'B.Sc in Computers',\n",
       "       'B.Sc in Any Specialization, BCA in Any Specialization, B.Tech/B.E. in Any Specialization',\n",
       "       'BCA in Any Specialization, B.Sc in Any Specialization, B.Tech/B.E. in Any Specialization',\n",
       "       'BCA in Computers, B.Sc in Any Specialization, B.Com in Commerce, Any Graduate, B.Tech/B.E. in Any Specialization',\n",
       "       'B.B.A/ B.M.S in Management, Any Graduate',\n",
       "       'BCA in Computers, B.Tech/B.E. in Computers, B.Sc in Maths, Computers, Statistics, B.A in Economics, Statistics',\n",
       "       'B.A in Economics, Statistics, Maths, B.Tech/B.E. in Computers, B.Sc in Maths, Computers, Statistics, BCA in Computers',\n",
       "       'MBA/PGDM in Finance', 'B.Tech/B.E. in Civil',\n",
       "       'Graduation Not Required', 'Any Postgraduate',\n",
       "       'B.Sc in Maths, Computers, Statistics',\n",
       "       'B.Com in Any Specialization',\n",
       "       'B.Tech/B.E. in Any Specialization, B.Sc in Any Specialization, BCA in Any Specialization',\n",
       "       'B.Sc in Maths, Physics, Computers, Diploma in Engineering',\n",
       "       'MBA/PGDM in Marketing',\n",
       "       'Any Graduate, B.B.A/ B.M.S in Management',\n",
       "       'BCA in Any Specialization, B.Sc in Computers, B.Tech/B.E. in Any Specialization',\n",
       "       'B.Tech/B.E. in Production/Industrial',\n",
       "       'B.Tech/B.E. in Any Specialization, Any Graduate',\n",
       "       'B.A in Maths, B.Sc in Maths, B.Tech/B.E. in Any Specialization',\n",
       "       'BCA in Any Specialization, B.Tech/B.E. in Any Specialization, B.Sc in Any Specialization',\n",
       "       'B.Tech/B.E. in Any Specialization, B.Sc in Any Specialization',\n",
       "       'B.Sc in Any Specialization, B.Tech/B.E. in Any Specialization, BCA in Any Specialization',\n",
       "       'B.Sc in Computers, B.Tech/B.E. in Computers, BCA in Computers',\n",
       "       'BCA in Any Specialization',\n",
       "       'B.Tech/B.E. in Production/Industrial, BCA in Computers',\n",
       "       'Any Graduate, B.Tech/B.E. in Production/Industrial',\n",
       "       'B.Tech/B.E. in Computers, BCA in Computers, B.A in Statistics, Maths, B.Sc in Maths, Computers, Statistics',\n",
       "       'B.Sc in Chemistry',\n",
       "       'CA in Any Specialization, MBA/PGDM in Finance',\n",
       "       'B.B.A/ B.M.S in Any Specialization, B.A in Economics',\n",
       "       'B.A in Statistics, Maths, B.Sc in Maths, Computers, Statistics, B.Tech/B.E. in Computers, BCA in Computers',\n",
       "       'B.A in Economics, Maths, B.Sc in Maths',\n",
       "       'B.Com in Any Specialization, B.Tech/B.E. in Computers, B.A in Economics',\n",
       "       'B.Tech/B.E. in Computers', 'B.Tech/B.E.',\n",
       "       'B.Tech/B.E. in Electrical',\n",
       "       'B.Tech/B.E. in Computers, B.Sc in Maths, Computers, Statistics, BCA in Computers, B.A in Statistics, Maths',\n",
       "       'Any Graduate, B.Tech/B.E. in Any Specialization, B.Sc in Any Specialization, BCA in Any Specialization, B.B.A/ B.M.S in Any Specialization, B.Com in Any Specialization',\n",
       "       'B.Tech/B.E. in Any Specialization, BCA in Any Specialization, B.Sc in Any Specialization',\n",
       "       'Any Graduate, B.Tech/B.E. in Production/Industrial, B.Sc in Chemistry',\n",
       "       'B.B.A/ B.M.S in Management', 'Any Graduate, BCA in Computers',\n",
       "       'Any Graduate, B.A in Any Specialization',\n",
       "       'B.A in Any Specialization, B.Tech/B.E. in Any Specialization, Any Graduate, B.Sc in Any Specialization',\n",
       "       'Any Graduate, B.Tech/B.E. in Any Specialization',\n",
       "       'B.Tech/B.E. in Production/Industrial, B.Sc in Chemistry',\n",
       "       'B.Sc in Chemistry, B.Com in Commerce, B.Tech/B.E. in Production/Industrial',\n",
       "       'BCA in Computers, B.A in Economics, Statistics, Maths, B.Tech/B.E. in Computers, B.Sc in Maths, Statistics, Computers',\n",
       "       'MS/M.Sc(Science) in Data Informatics, Maths, Computers, Statistics',\n",
       "       'B.Tech/B.E. in Computers, B.Sc in Maths, Computers, Statistics, BCA in Computers, B.A in Economics, Statistics, Maths',\n",
       "       'B.A',\n",
       "       'B.Sc in Maths, Statistics, Computers, B.A in Statistics, Maths, BCA in Computers, B.Tech/B.E. in Computers',\n",
       "       'Any Graduate, B.Sc in Any Specialization, B.Tech/B.E. in Any Specialization',\n",
       "       'B.Sc in Maths, Statistics',\n",
       "       'B.Tech/B.E. in Any Specialization, BCA in Any Specialization',\n",
       "       'Any Graduate, B.Sc in Chemistry, B.Tech/B.E. in Production/Industrial',\n",
       "       'B.Tech/B.E. in Any Specialization, B.A in Any Specialization, B.Sc in Any Specialization',\n",
       "       'B.A in Any Specialization, Any Graduate',\n",
       "       'Any Graduate, Diploma in Any Specialization',\n",
       "       'B.Pharma in Any Specialization',\n",
       "       'B.Tech/B.E. in Any Specialization, Diploma in Any Specialization',\n",
       "       'BCA in Computers, B.Sc in Computers, B.Tech/B.E. in Computers',\n",
       "       'B.Sc in Computers, Diploma in Any Specialization, B.Tech/B.E. in Any Specialization',\n",
       "       'Any Graduate, B.Sc in Computers, B.Tech/B.E. in Computers',\n",
       "       'B.Sc in Any Specialization', 'BDS in Dentistry, Any Graduate',\n",
       "       'BCA in Any Specialization, B.Tech/B.E. in Any Specialization',\n",
       "       'B.A in Any Specialization, B.Sc in Any Specialization',\n",
       "       'B.A, B.Sc in Chemistry, Any Graduate',\n",
       "       'B.B.A/ B.M.S in Management, B.A',\n",
       "       'B.Sc in Chemistry, BCA in Computers',\n",
       "       'B.Tech/B.E. in Any Specialization, B.Sc in Any Specialization, B.A in Any Specialization',\n",
       "       'B.A in Any Specialization, B.Sc in Any Specialization, B.Tech/B.E. in Any Specialization',\n",
       "       'BCA in Computers', 'B.Sc in Computers, B.Tech/B.E. in Computers',\n",
       "       'B.A in Maths, B.Sc in Maths, Statistics',\n",
       "       'B.Sc in Maths, Physics, B.Tech/B.E. in Computers, B.A in Maths',\n",
       "       'B.A in Fine Arts, B.Tech/B.E. in Production/Industrial, Any Graduate',\n",
       "       'B.B.A/ B.M.S in Any Specialization, Any Graduate',\n",
       "       'B.Tech/B.E. in Computers, BCA in Computers, B.Sc in Computers',\n",
       "       'B.Sc in Chemistry, B.Tech/B.E. in Production/Industrial',\n",
       "       'B.Tech/B.E. in Any Specialization, B.Sc in Maths, Statistics',\n",
       "       'B.B.A/ B.M.S in Management, Any Graduate, B.Tech/B.E. in Production/Industrial',\n",
       "       'B.Tech/B.E. in Production/Industrial, Any Graduate',\n",
       "       'B.Sc in Computers, B.Tech/B.E. in Any Specialization, BCA in Any Specialization',\n",
       "       'LLB in Law', 'B.A, B.B.A/ B.M.S in Management, Any Graduate',\n",
       "       'BCA in Computers, B.Sc in Maths, Computers, Statistics, B.Tech/B.E. in Computers, B.A in Statistics, Maths',\n",
       "       'BCA in Computers, B.Tech/B.E. in Computers, B.Sc in Computers',\n",
       "       'B.Sc in Computers, BCA in Computers, B.Tech/B.E. in Computers',\n",
       "       'B.A, Any Graduate', 'Diploma in Any Specialization',\n",
       "       'B.A in Economics',\n",
       "       'B.Tech/B.E. in Production/Industrial, B.Com in Commerce',\n",
       "       'Diploma in Mechanical, Any Graduate'], dtype=object)"
      ]
     },
     "execution_count": 8,
     "metadata": {},
     "output_type": "execute_result"
    }
   ],
   "source": [
    "df['education'].unique()"
   ]
  },
  {
   "cell_type": "code",
   "execution_count": 9,
   "id": "ea31d675",
   "metadata": {
    "scrolled": true
   },
   "outputs": [
    {
     "data": {
      "text/plain": [
       "Data Analyst                          566\n",
       "Business Analyst                      133\n",
       "Back End Developer                     25\n",
       "System Analyst                         21\n",
       "Other                                  19\n",
       "                                     ... \n",
       "Regulatory Affairs Compliance           1\n",
       "Product Manager - Other                 1\n",
       "Sales Support & Operations - Other      1\n",
       "Marketing - Other                       1\n",
       "Network Manager / Administrator         1\n",
       "Name: role, Length: 73, dtype: int64"
      ]
     },
     "execution_count": 9,
     "metadata": {},
     "output_type": "execute_result"
    }
   ],
   "source": [
    "df['role'].value_counts()"
   ]
  },
  {
   "cell_type": "code",
   "execution_count": 10,
   "id": "b61af583",
   "metadata": {},
   "outputs": [
    {
     "data": {
      "text/plain": [
       "Any Graduate                                                                                                             717\n",
       "B.Tech/B.E. in Any Specialization                                                                                         52\n",
       "B.Tech/B.E. in Computers                                                                                                  28\n",
       "B.Tech/B.E. in Production/Industrial                                                                                      15\n",
       "B.Sc in Any Specialization, BCA in Any Specialization, B.Tech/B.E. in Any Specialization                                   6\n",
       "                                                                                                                        ... \n",
       "BCA in Computers, B.A in Economics, Statistics, Maths, B.Tech/B.E. in Computers, B.Sc in Maths, Statistics, Computers      1\n",
       "B.Sc in Chemistry, B.Com in Commerce, B.Tech/B.E. in Production/Industrial                                                 1\n",
       "B.Tech/B.E. in Production/Industrial, B.Sc in Chemistry                                                                    1\n",
       "MBA/PGDM in Finance                                                                                                        1\n",
       "Diploma in Mechanical, Any Graduate                                                                                        1\n",
       "Name: education, Length: 102, dtype: int64"
      ]
     },
     "execution_count": 10,
     "metadata": {},
     "output_type": "execute_result"
    }
   ],
   "source": [
    "df['education'].value_counts()"
   ]
  },
  {
   "cell_type": "code",
   "execution_count": 12,
   "id": "9b283c0a",
   "metadata": {},
   "outputs": [
    {
     "data": {
      "text/plain": [
       "Not Disclosed                     855\n",
       "₹ 15,00,000 - 30,00,000 P.A.        4\n",
       "₹ 3,00,000 - 5,00,000 P.A.          4\n",
       "₹ 15,00,000 - 27,50,000 P.A.        3\n",
       "₹ 60,00,000 - 1,00,00,000 P.A.      3\n",
       "                                 ... \n",
       "₹ 2,50,000 - 3,50,000 P.A.          1\n",
       "₹ 3,00,000 - 4,50,000 P.A.          1\n",
       "₹ 7,00,000 - 13,00,000 P.A.         1\n",
       "₹ 7,00,000 - 9,00,000 P.A.          1\n",
       "₹ 2,00,000 - 7,00,000 P.A.          1\n",
       "Name: salary, Length: 82, dtype: int64"
      ]
     },
     "execution_count": 12,
     "metadata": {},
     "output_type": "execute_result"
    }
   ],
   "source": [
    "df['salary'].value_counts()"
   ]
  },
  {
   "cell_type": "code",
   "execution_count": 16,
   "id": "077969a7",
   "metadata": {},
   "outputs": [
    {
     "data": {
      "text/plain": [
       "0.8841778697001034"
      ]
     },
     "execution_count": 16,
     "metadata": {},
     "output_type": "execute_result"
    }
   ],
   "source": [
    "# percentage of not disclosed\n",
    "855/df.shape[0]"
   ]
  },
  {
   "cell_type": "code",
   "execution_count": 19,
   "id": "0b4c1b2a",
   "metadata": {
    "scrolled": true
   },
   "outputs": [
    {
     "data": {
      "text/plain": [
       "2 - 5 years      83\n",
       "5 - 10 years     60\n",
       "2 - 4 years      60\n",
       "3 - 8 years      54\n",
       "1 - 3 years      50\n",
       "3 - 6 years      49\n",
       "2 - 7 years      48\n",
       "0 - 2 years      41\n",
       "1 - 4 years      41\n",
       "3 - 5 years      36\n",
       "5 - 8 years      31\n",
       "1 - 6 years      23\n",
       "1 - 2 years      22\n",
       "2 - 3 years      22\n",
       "4 - 9 years      22\n",
       "3 - 7 years      20\n",
       "4 - 6 years      20\n",
       "4 - 7 years      19\n",
       "2 - 6 years      18\n",
       "0 - 1 years      18\n",
       "6 - 11 years     18\n",
       "3 - 4 years      17\n",
       "1 - 5 years      17\n",
       "5 - 7 years      17\n",
       "0 - 3 years      15\n",
       "0 - 4 years      13\n",
       "7 - 12 years     12\n",
       "4 - 8 years      11\n",
       "6 - 8 years       9\n",
       "8 - 10 years      9\n",
       "7 - 10 years      7\n",
       "4 - 5 years       6\n",
       "0 - 5 years       6\n",
       "8 - 13 years      6\n",
       "5 - 9 years       5\n",
       "8 - 12 years      5\n",
       "6 - 9 years       5\n",
       "10 - 20 years     4\n",
       "0 years           4\n",
       "0 - 6 years       4\n",
       "2 - 8 years       3\n",
       "3 - 9 years       3\n",
       "7 - 9 years       3\n",
       "5 - 6 years       3\n",
       "10 - 15 years     3\n",
       "6 - 10 years      2\n",
       "7 - 11 years      2\n",
       "10 - 12 years     2\n",
       "1 years           1\n",
       "15 - 18 years     1\n",
       "Name: experience, dtype: int64"
      ]
     },
     "execution_count": 19,
     "metadata": {},
     "output_type": "execute_result"
    }
   ],
   "source": [
    "df['experience'].value_counts().head(50)"
   ]
  },
  {
   "cell_type": "code",
   "execution_count": 22,
   "id": "40c18a58",
   "metadata": {
    "scrolled": true
   },
   "outputs": [
    {
     "data": {
      "text/plain": [
       "Optum4.1(2117 Reviews)                               21\n",
       "Varite3.7(81 Reviews)                                18\n",
       "Seven Consultancy (HR Solution)                      17\n",
       "Huquo Consulting Pvt. Ltd                            16\n",
       "Applycup Hiring Solutions Llp4.9(15 Reviews)         10\n",
       "Deutsche Bank4.2(2087 Reviews)                        9\n",
       "Wells Fargo4.2(3470 Reviews)                          9\n",
       "BNY Mellon4.2(2542 Reviews)                           8\n",
       "Megma Services                                        6\n",
       "Anicalls4.7(2 Reviews)                                6\n",
       "Skillety3.8(3 Reviews)                                6\n",
       "Diverse Lynx3.3(76 Reviews)                           6\n",
       "Goalreify Ventures4.8(5 Reviews)                      6\n",
       "SAC Management1.9(14 Reviews)                         5\n",
       "Urjanet Energy Solutions3.8(80 Reviews)               5\n",
       "ICE3.8(20 Reviews)                                    5\n",
       "Virtue Analytics4.6(7 Reviews)                        5\n",
       "Walmart4.2(12887 Reviews)                             5\n",
       "Institutional Shareholder Services3.5(30 Reviews)     4\n",
       "Boston Consulting Group4.1(144 Reviews)               4\n",
       "Name: company_name, dtype: int64"
      ]
     },
     "execution_count": 22,
     "metadata": {},
     "output_type": "execute_result"
    }
   ],
   "source": [
    "df['company_name'].value_counts().head(20)"
   ]
  },
  {
   "cell_type": "code",
   "execution_count": 25,
   "id": "133036d9",
   "metadata": {
    "scrolled": true
   },
   "outputs": [
    {
     "data": {
      "text/plain": [
       "Bangalore/Bengaluru                            229\n",
       "Mumbai                                          84\n",
       "Pune                                            63\n",
       "Hyderabad/Secunderabad                          63\n",
       "Chennai                                         60\n",
       "Gurgaon/Gurugram                                56\n",
       "Noida                                           30\n",
       "Bengaluru                                       24\n",
       "Remote                                          22\n",
       "New Delhi                                       18\n",
       "remote                                          14\n",
       "Ahmedabad                                       12\n",
       "Gurgaon/Gurugram, Bangalore/Bengaluru           10\n",
       "Hyderabad                                       10\n",
       "Hyderabad/Secunderabad, Bangalore/Bengaluru      9\n",
       "Mumbai (All Areas)                               9\n",
       "Chennai, Bangalore/Bengaluru                     7\n",
       "Jaipur                                           7\n",
       "Gurgaon                                          6\n",
       "Lucknow                                          6\n",
       "Name: location, dtype: int64"
      ]
     },
     "execution_count": 25,
     "metadata": {},
     "output_type": "execute_result"
    }
   ],
   "source": [
    "df['location'].value_counts().head(20)"
   ]
  },
  {
   "cell_type": "code",
   "execution_count": 26,
   "id": "72eb233a",
   "metadata": {
    "scrolled": true
   },
   "outputs": [
    {
     "data": {
      "text/plain": [
       "IT Services & Consulting                                 327\n",
       "Recruitment / Staffing                                   124\n",
       "Banking                                                   59\n",
       "Internet                                                  50\n",
       "Analytics / KPO / Research                                43\n",
       "Software Product                                          33\n",
       "Financial Services                                        31\n",
       "Management Consulting                                     31\n",
       "BPO / Call Centre                                         22\n",
       "Pharmaceutical & Life Sciences                            18\n",
       "Medical Services / Hospital                               16\n",
       "Education / Training                                      15\n",
       "Industrial Equipment / Machinery                          14\n",
       "Advertising & Marketing                                   14\n",
       "Film / Music / Entertainment                              12\n",
       "Retail                                                    11\n",
       "Automobile                                                10\n",
       "Insurance                                                 10\n",
       "Telecom / ISP                                             10\n",
       "Courier / Logistics                                        7\n",
       "Miscellaneous                                              7\n",
       "Hardware & Networking                                      7\n",
       "Engineering & Construction                                 6\n",
       "Accounting / Auditing                                      6\n",
       "Travel & Tourism                                           5\n",
       "Petrochemical / Plastics / Rubber                          5\n",
       "Electronic Components / Semiconductors                     5\n",
       "FMCG                                                       4\n",
       "Aviation                                                   4\n",
       "NGO / Social Services / Industry Associations              4\n",
       "Electronics Manufacturing                                  4\n",
       "Medical Devices & Equipment                                4\n",
       "Real Estate                                                4\n",
       "Building Material                                          3\n",
       "E-Learning / EdTech                                        3\n",
       "Consumer Electronics & Appliances                          3\n",
       "Gems & Jewellery                                           3\n",
       "Power                                                      3\n",
       "NBFC                                                       3\n",
       "Fitness & Wellness                                         3\n",
       "Ports & Shipping                                           2\n",
       "Investment Banking / Venture Capital / Private Equity      2\n",
       "Events / Live Entertainment                                2\n",
       "Gaming                                                     2\n",
       "Defence & Aerospace                                        2\n",
       "Beverage                                                   1\n",
       "Printing & Publishing                                      1\n",
       "Government / Public Administration                         1\n",
       "Auto Components                                            1\n",
       "Textile & Apparel                                          1\n",
       "Name: industry_type, dtype: int64"
      ]
     },
     "execution_count": 26,
     "metadata": {},
     "output_type": "execute_result"
    }
   ],
   "source": [
    "df['industry_type'].value_counts().head(50)"
   ]
  },
  {
   "cell_type": "code",
   "execution_count": 28,
   "id": "3f4510e6",
   "metadata": {},
   "outputs": [
    {
     "data": {
      "text/plain": [
       "Full Time, Permanent                958\n",
       "Full Time, Temporary/Contractual      9\n",
       "Name: employment_type, dtype: int64"
      ]
     },
     "execution_count": 28,
     "metadata": {},
     "output_type": "execute_result"
    }
   ],
   "source": [
    "df['employment_type'].value_counts()"
   ]
  },
  {
   "cell_type": "code",
   "execution_count": 29,
   "id": "76417c18",
   "metadata": {},
   "outputs": [
    {
     "data": {
      "text/plain": [
       "Data Science & Analytics                   729\n",
       "Engineering - Software & QA                 83\n",
       "Customer Success, Service & Operations      48\n",
       "IT & Information Security                   30\n",
       "Other                                       19\n",
       "Finance & Accounting                        10\n",
       "BFSI, Investments & Trading                  8\n",
       "Sales & Business Development                 6\n",
       "Research & Development                       6\n",
       "Product Management                           5\n",
       "Marketing & Communication                    5\n",
       "Consulting                                   5\n",
       "Human Resources                              4\n",
       "Risk Management & Compliance                 2\n",
       "Project & Program Management                 2\n",
       "Legal & Regulatory                           1\n",
       "Production, Manufacturing & Engineering      1\n",
       "Strategic & Top Management                   1\n",
       "Procurement & Supply Chain                   1\n",
       "Engineering - Hardware & Networks            1\n",
       "Name: department, dtype: int64"
      ]
     },
     "execution_count": 29,
     "metadata": {},
     "output_type": "execute_result"
    }
   ],
   "source": [
    "df['department'].value_counts()"
   ]
  },
  {
   "cell_type": "code",
   "execution_count": 31,
   "id": "9e1bb189",
   "metadata": {},
   "outputs": [
    {
     "data": {
      "text/plain": [
       "Less than 10    10\n",
       "40               7\n",
       "55               7\n",
       "58               6\n",
       "47               6\n",
       "101              6\n",
       "85               6\n",
       "158              6\n",
       "150              5\n",
       "110              5\n",
       "144              5\n",
       "234              5\n",
       "154              5\n",
       "192              5\n",
       "121              4\n",
       "70               4\n",
       "145              4\n",
       "291              4\n",
       "178              4\n",
       "153              4\n",
       "62               4\n",
       "466              4\n",
       "191              4\n",
       "86               4\n",
       "99               4\n",
       "143              4\n",
       "46               4\n",
       "43               4\n",
       "80               4\n",
       "56               4\n",
       "39               4\n",
       "108              4\n",
       "69               4\n",
       "136              4\n",
       "95               4\n",
       "50               4\n",
       "229              4\n",
       "185              4\n",
       "64               4\n",
       "89               4\n",
       "140              3\n",
       "165              3\n",
       "59               3\n",
       "224              3\n",
       "71               3\n",
       "1161             3\n",
       "207              3\n",
       "170              3\n",
       "127              3\n",
       "157              3\n",
       "Name: num_applicants, dtype: int64"
      ]
     },
     "execution_count": 31,
     "metadata": {},
     "output_type": "execute_result"
    }
   ],
   "source": []
  },
  {
   "cell_type": "code",
   "execution_count": 36,
   "id": "2dbf2d4c",
   "metadata": {},
   "outputs": [
    {
     "data": {
      "text/plain": [
       "1.0     651\n",
       "NaN     263\n",
       "2.0      14\n",
       "4.0       9\n",
       "5.0       9\n",
       "3.0       4\n",
       "10.0      3\n",
       "9.0       3\n",
       "7.0       3\n",
       "6.0       2\n",
       "20.0      2\n",
       "50.0      1\n",
       "87.0      1\n",
       "21.0      1\n",
       "30.0      1\n",
       "Name: num_openings, dtype: int64"
      ]
     },
     "execution_count": 36,
     "metadata": {},
     "output_type": "execute_result"
    }
   ],
   "source": [
    "df['num_openings'].value_counts(dropna=False)"
   ]
  },
  {
   "cell_type": "code",
   "execution_count": 37,
   "id": "c9421e4e",
   "metadata": {},
   "outputs": [
    {
     "data": {
      "text/plain": [
       "863    87.0\n",
       "106    50.0\n",
       "890    30.0\n",
       "883    21.0\n",
       "423    20.0\n",
       "Name: num_openings, dtype: float64"
      ]
     },
     "execution_count": 37,
     "metadata": {},
     "output_type": "execute_result"
    }
   ],
   "source": [
    "df['num_openings'].nlargest()"
   ]
  },
  {
   "cell_type": "code",
   "execution_count": 38,
   "id": "fd25b1ab",
   "metadata": {},
   "outputs": [
    {
     "data": {
      "text/plain": [
       "job_title          EDP officer / Data Analyst | Jhunjhunun | Raja...\n",
       "company_name                                      RMW India Services\n",
       "experience                                               0 - 4 years\n",
       "salary                                    ₹ 3,00,000 - 5,00,000 P.A.\n",
       "location                          Chandrapur, Jhunjhunun, Ahmednagar\n",
       "job_description    - Process various forms for admission, test re...\n",
       "role                                                    Data Analyst\n",
       "industry_type                                    E-Learning / EdTech\n",
       "department                                  Data Science & Analytics\n",
       "employment_type                                 Full Time, Permanent\n",
       "role_category                      Business Intelligence & Analytics\n",
       "education                                               Any Graduate\n",
       "key_skills         [Advanced Excel, Report Preparation, Data Entr...\n",
       "date_posted                                              18 days ago\n",
       "num_openings                                                    87.0\n",
       "num_applicants                                                   780\n",
       "Name: 863, dtype: object"
      ]
     },
     "execution_count": 38,
     "metadata": {},
     "output_type": "execute_result"
    }
   ],
   "source": [
    "df.iloc[863]"
   ]
  },
  {
   "cell_type": "code",
   "execution_count": 46,
   "id": "f251f0dc",
   "metadata": {},
   "outputs": [
    {
     "name": "stdout",
     "output_type": "stream",
     "text": [
      "[('SQL', 400), ('Data Analyst', 313), ('Python', 273), ('Data analysis', 201), ('Analytical', 163), ('Analytics', 154), ('Excel', 100), ('Data management', 100), ('Data Analysis', 91), ('data analysis', 88), ('Data Analytics', 85), ('Data mining', 83), ('Data quality', 81), ('Data collection', 75), ('Tableau', 67), ('Business intelligence', 65), ('Computer science', 63), ('Data analytics', 62), ('Monitoring', 58), ('SAS', 57), ('Operations', 53), ('Management', 53), ('data visualization', 48), ('Data modeling', 44), ('power bi', 43), ('Machine learning', 42), ('Process improvement', 42), ('Automation', 42), ('MySQL', 41), ('Consulting', 39), ('Macros', 36), ('Recruitment', 35), ('MIS', 34), ('MS Office', 34), ('Advanced Excel', 34), ('data science', 33), ('CRM', 31), ('python', 31), ('Project management', 31), ('Financial services', 31), ('Analytical skills', 31), ('Power BI', 30), ('Data Management', 30), ('Coding', 29), ('microsoft', 29), ('Healthcare', 29), ('Oracle', 27), ('Statistics', 26), ('tableau', 26), ('sql', 26)]\n"
     ]
    }
   ],
   "source": [
    "# Flatten the list of skills into a single list\n",
    "skills = list(chain.from_iterable(df['key_skills']))\n",
    "\n",
    "# Count the occurrences of each skill\n",
    "skill_counts = Counter(skills)\n",
    "\n",
    "# Sort the skills by their count in descending order\n",
    "most_common_skills = skill_counts.most_common()\n",
    "\n",
    "# Print the most common skills\n",
    "print(most_common_skills[:50])"
   ]
  },
  {
   "cell_type": "code",
   "execution_count": null,
   "id": "f25d9508",
   "metadata": {},
   "outputs": [],
   "source": []
  },
  {
   "cell_type": "code",
   "execution_count": null,
   "id": "2ba95d66",
   "metadata": {},
   "outputs": [],
   "source": []
  },
  {
   "cell_type": "code",
   "execution_count": null,
   "id": "b40b53c0",
   "metadata": {},
   "outputs": [],
   "source": []
  }
 ],
 "metadata": {
  "kernelspec": {
   "display_name": "Python 3 (ipykernel)",
   "language": "python",
   "name": "python3"
  },
  "language_info": {
   "codemirror_mode": {
    "name": "ipython",
    "version": 3
   },
   "file_extension": ".py",
   "mimetype": "text/x-python",
   "name": "python",
   "nbconvert_exporter": "python",
   "pygments_lexer": "ipython3",
   "version": "3.9.9"
  }
 },
 "nbformat": 4,
 "nbformat_minor": 5
}
