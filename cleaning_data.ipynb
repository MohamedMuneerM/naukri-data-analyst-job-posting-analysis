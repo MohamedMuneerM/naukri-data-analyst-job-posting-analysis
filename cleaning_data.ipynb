{
 "cells": [
  {
   "cell_type": "code",
   "execution_count": 1,
   "id": "ad537636",
   "metadata": {},
   "outputs": [],
   "source": [
    "import numpy as np\n",
    "import pandas as pd\n",
    "import seaborn as sns\n",
    "from collections import Counter\n",
    "from itertools import chain"
   ]
  },
  {
   "cell_type": "code",
   "execution_count": 2,
   "id": "2e2217b2",
   "metadata": {},
   "outputs": [],
   "source": [
    "df = pd.read_json(\"naukri_data_all.json\")"
   ]
  },
  {
   "cell_type": "code",
   "execution_count": 3,
   "id": "e32e64de",
   "metadata": {
    "scrolled": false
   },
   "outputs": [
    {
     "data": {
      "text/html": [
       "<div>\n",
       "<style scoped>\n",
       "    .dataframe tbody tr th:only-of-type {\n",
       "        vertical-align: middle;\n",
       "    }\n",
       "\n",
       "    .dataframe tbody tr th {\n",
       "        vertical-align: top;\n",
       "    }\n",
       "\n",
       "    .dataframe thead th {\n",
       "        text-align: right;\n",
       "    }\n",
       "</style>\n",
       "<table border=\"1\" class=\"dataframe\">\n",
       "  <thead>\n",
       "    <tr style=\"text-align: right;\">\n",
       "      <th></th>\n",
       "      <th>job_title</th>\n",
       "      <th>company_name</th>\n",
       "      <th>experience</th>\n",
       "      <th>salary</th>\n",
       "      <th>location</th>\n",
       "      <th>job_description</th>\n",
       "      <th>role</th>\n",
       "      <th>industry_type</th>\n",
       "      <th>department</th>\n",
       "      <th>employment_type</th>\n",
       "      <th>role_category</th>\n",
       "      <th>education</th>\n",
       "      <th>key_skills</th>\n",
       "      <th>date_posted</th>\n",
       "      <th>num_openings</th>\n",
       "      <th>num_applicants</th>\n",
       "    </tr>\n",
       "  </thead>\n",
       "  <tbody>\n",
       "    <tr>\n",
       "      <th>0</th>\n",
       "      <td>Data Analyst (0-2yrs) Bangalore</td>\n",
       "      <td>Gupta And Sharma</td>\n",
       "      <td>0 - 2 years</td>\n",
       "      <td>₹ 3,50,000 - 6,00,000 P.A.</td>\n",
       "      <td>Bangalore/Bengaluru( Whitefield )</td>\n",
       "      <td>Roles and Responsibilities\\nAcquiring data fro...</td>\n",
       "      <td>Data Analyst</td>\n",
       "      <td>Banking</td>\n",
       "      <td>Data Science &amp; Analytics</td>\n",
       "      <td>Full Time, Permanent</td>\n",
       "      <td>Business Intelligence &amp; Analytics</td>\n",
       "      <td>B.Tech/B.E. in Computers, B.Sc in Computers, B...</td>\n",
       "      <td>[plsql, excel, data analysis, sas, oracle sql,...</td>\n",
       "      <td>1 day ago</td>\n",
       "      <td>3.0</td>\n",
       "      <td>2647</td>\n",
       "    </tr>\n",
       "    <tr>\n",
       "      <th>1</th>\n",
       "      <td>French Data Analyst</td>\n",
       "      <td>Randstad</td>\n",
       "      <td>0 - 1 years</td>\n",
       "      <td>₹ 2,50,000 - 3,50,000 P.A.</td>\n",
       "      <td>PAN India</td>\n",
       "      <td>Roles and Responsibilities\\n\\nJob Description:...</td>\n",
       "      <td>Data Analyst</td>\n",
       "      <td>IT Services &amp; Consulting</td>\n",
       "      <td>Data Science &amp; Analytics</td>\n",
       "      <td>Full Time, Permanent</td>\n",
       "      <td>Business Intelligence &amp; Analytics</td>\n",
       "      <td>Any Graduate</td>\n",
       "      <td>[Bi-lingual French, French Data Analyst]</td>\n",
       "      <td>1 day ago</td>\n",
       "      <td>NaN</td>\n",
       "      <td>145</td>\n",
       "    </tr>\n",
       "    <tr>\n",
       "      <th>2</th>\n",
       "      <td>Data Analyst</td>\n",
       "      <td>Namdhari Seeds3.7(44 Reviews)</td>\n",
       "      <td>0 - 2 years</td>\n",
       "      <td>Not Disclosed</td>\n",
       "      <td>Bangalore/Bengaluru</td>\n",
       "      <td>Roles and Responsibilities\\nCreate and validat...</td>\n",
       "      <td>Other</td>\n",
       "      <td>Agriculture / Forestry / Fishing</td>\n",
       "      <td>Other</td>\n",
       "      <td>Full Time, Permanent</td>\n",
       "      <td>Other</td>\n",
       "      <td>MBA/PGDM in Any Specialization</td>\n",
       "      <td>[supply chain operations, data analytics, dash...</td>\n",
       "      <td>13 days ago</td>\n",
       "      <td>NaN</td>\n",
       "      <td>8751</td>\n",
       "    </tr>\n",
       "    <tr>\n",
       "      <th>3</th>\n",
       "      <td>Business Analyst/ Software Analyst/ Data Analyst</td>\n",
       "      <td>Optiontown2.4(24 Reviews)</td>\n",
       "      <td>0 - 2 years</td>\n",
       "      <td>₹ 4,00,000 - 7,00,000 P.A.</td>\n",
       "      <td>New Delhi( Rani Bagh )</td>\n",
       "      <td>Analysts will leverage analytic, quantitative ...</td>\n",
       "      <td>Business Analyst</td>\n",
       "      <td>Aviation</td>\n",
       "      <td>Data Science &amp; Analytics</td>\n",
       "      <td>Full Time, Permanent</td>\n",
       "      <td>Business Intelligence &amp; Analytics</td>\n",
       "      <td>B.Tech/B.E. in Any Specialization</td>\n",
       "      <td>[Analysis, Predictive Modeling, Requirement Ga...</td>\n",
       "      <td>1 day ago</td>\n",
       "      <td>NaN</td>\n",
       "      <td>1358</td>\n",
       "    </tr>\n",
       "    <tr>\n",
       "      <th>4</th>\n",
       "      <td>HR Data Analyst</td>\n",
       "      <td>Walmart4.2(12887 Reviews)</td>\n",
       "      <td>2 - 5 years</td>\n",
       "      <td>Not Disclosed</td>\n",
       "      <td>Bangalore/Bengaluru</td>\n",
       "      <td>Data Analyst - TA Position summary:\\nDemonstra...</td>\n",
       "      <td>HR Analyst</td>\n",
       "      <td>Software Product</td>\n",
       "      <td>Human Resources</td>\n",
       "      <td>Full Time, Temporary/Contractual</td>\n",
       "      <td>HR Operations</td>\n",
       "      <td>Any Graduate</td>\n",
       "      <td>[Excel Report Preparation, excel, data analyti...</td>\n",
       "      <td>Few Hours Ago</td>\n",
       "      <td>NaN</td>\n",
       "      <td>50</td>\n",
       "    </tr>\n",
       "  </tbody>\n",
       "</table>\n",
       "</div>"
      ],
      "text/plain": [
       "                                          job_title  \\\n",
       "0                   Data Analyst (0-2yrs) Bangalore   \n",
       "1                               French Data Analyst   \n",
       "2                                      Data Analyst   \n",
       "3  Business Analyst/ Software Analyst/ Data Analyst   \n",
       "4                                   HR Data Analyst   \n",
       "\n",
       "                    company_name   experience                      salary  \\\n",
       "0               Gupta And Sharma  0 - 2 years  ₹ 3,50,000 - 6,00,000 P.A.   \n",
       "1                       Randstad  0 - 1 years  ₹ 2,50,000 - 3,50,000 P.A.   \n",
       "2  Namdhari Seeds3.7(44 Reviews)  0 - 2 years               Not Disclosed   \n",
       "3      Optiontown2.4(24 Reviews)  0 - 2 years  ₹ 4,00,000 - 7,00,000 P.A.   \n",
       "4      Walmart4.2(12887 Reviews)  2 - 5 years               Not Disclosed   \n",
       "\n",
       "                            location  \\\n",
       "0  Bangalore/Bengaluru( Whitefield )   \n",
       "1                          PAN India   \n",
       "2                Bangalore/Bengaluru   \n",
       "3             New Delhi( Rani Bagh )   \n",
       "4                Bangalore/Bengaluru   \n",
       "\n",
       "                                     job_description              role  \\\n",
       "0  Roles and Responsibilities\\nAcquiring data fro...      Data Analyst   \n",
       "1  Roles and Responsibilities\\n\\nJob Description:...      Data Analyst   \n",
       "2  Roles and Responsibilities\\nCreate and validat...             Other   \n",
       "3  Analysts will leverage analytic, quantitative ...  Business Analyst   \n",
       "4  Data Analyst - TA Position summary:\\nDemonstra...        HR Analyst   \n",
       "\n",
       "                      industry_type                department  \\\n",
       "0                           Banking  Data Science & Analytics   \n",
       "1          IT Services & Consulting  Data Science & Analytics   \n",
       "2  Agriculture / Forestry / Fishing                     Other   \n",
       "3                          Aviation  Data Science & Analytics   \n",
       "4                  Software Product           Human Resources   \n",
       "\n",
       "                    employment_type                      role_category  \\\n",
       "0              Full Time, Permanent  Business Intelligence & Analytics   \n",
       "1              Full Time, Permanent  Business Intelligence & Analytics   \n",
       "2              Full Time, Permanent                              Other   \n",
       "3              Full Time, Permanent  Business Intelligence & Analytics   \n",
       "4  Full Time, Temporary/Contractual                      HR Operations   \n",
       "\n",
       "                                           education  \\\n",
       "0  B.Tech/B.E. in Computers, B.Sc in Computers, B...   \n",
       "1                                       Any Graduate   \n",
       "2                     MBA/PGDM in Any Specialization   \n",
       "3                  B.Tech/B.E. in Any Specialization   \n",
       "4                                       Any Graduate   \n",
       "\n",
       "                                          key_skills    date_posted  \\\n",
       "0  [plsql, excel, data analysis, sas, oracle sql,...      1 day ago   \n",
       "1           [Bi-lingual French, French Data Analyst]      1 day ago   \n",
       "2  [supply chain operations, data analytics, dash...    13 days ago   \n",
       "3  [Analysis, Predictive Modeling, Requirement Ga...      1 day ago   \n",
       "4  [Excel Report Preparation, excel, data analyti...  Few Hours Ago   \n",
       "\n",
       "   num_openings num_applicants  \n",
       "0           3.0           2647  \n",
       "1           NaN            145  \n",
       "2           NaN           8751  \n",
       "3           NaN           1358  \n",
       "4           NaN             50  "
      ]
     },
     "execution_count": 3,
     "metadata": {},
     "output_type": "execute_result"
    }
   ],
   "source": [
    "df.head()"
   ]
  },
  {
   "cell_type": "code",
   "execution_count": 4,
   "id": "f904f7ae",
   "metadata": {},
   "outputs": [
    {
     "name": "stdout",
     "output_type": "stream",
     "text": [
      "<class 'pandas.core.frame.DataFrame'>\n",
      "RangeIndex: 967 entries, 0 to 966\n",
      "Data columns (total 16 columns):\n",
      " #   Column           Non-Null Count  Dtype  \n",
      "---  ------           --------------  -----  \n",
      " 0   job_title        967 non-null    object \n",
      " 1   company_name     967 non-null    object \n",
      " 2   experience       967 non-null    object \n",
      " 3   salary           967 non-null    object \n",
      " 4   location         967 non-null    object \n",
      " 5   job_description  967 non-null    object \n",
      " 6   role             967 non-null    object \n",
      " 7   industry_type    967 non-null    object \n",
      " 8   department       967 non-null    object \n",
      " 9   employment_type  967 non-null    object \n",
      " 10  role_category    967 non-null    object \n",
      " 11  education        967 non-null    object \n",
      " 12  key_skills       967 non-null    object \n",
      " 13  date_posted      967 non-null    object \n",
      " 14  num_openings     704 non-null    float64\n",
      " 15  num_applicants   967 non-null    object \n",
      "dtypes: float64(1), object(15)\n",
      "memory usage: 121.0+ KB\n"
     ]
    }
   ],
   "source": [
    "df.info()"
   ]
  },
  {
   "cell_type": "code",
   "execution_count": 5,
   "id": "e7eb17ad",
   "metadata": {
    "scrolled": true
   },
   "outputs": [
    {
     "data": {
      "text/plain": [
       "array(['Data Analyst', 'Other', 'Business Analyst', 'HR Analyst',\n",
       "       'Data Science & Analytics - Other', 'Service Engineer',\n",
       "       'Investment Banking Analyst',\n",
       "       'Business Intelligence & Analytics - Other', 'Financial Analyst',\n",
       "       'Research & Development - Other', 'Social Media Marketing',\n",
       "       'Technical Consultant', 'IT & Information Security - Other',\n",
       "       'Software Development - Other', 'System Analyst',\n",
       "       'Database Analyst', 'MIS Executive',\n",
       "       'Non Tech Support - Voice / Blended', 'Technical Lead',\n",
       "       'Database Architect / Designer', 'Database Administrator',\n",
       "       'IT Support - Other', 'Marketing - Other',\n",
       "       'Analytics / BI Manager', 'Data Engineer', 'Statistician',\n",
       "       'MIS Manager', 'Database Developer / Engineer',\n",
       "       'Sales Support & Operations - Other',\n",
       "       'Market Research / Insights Head', 'Research Analyst',\n",
       "       'Back End Developer', 'Non Tech Support - Non Voice',\n",
       "       'Product Manager - Other', 'Regulatory Affairs Compliance',\n",
       "       'Security Engineer / Analyst',\n",
       "       'Business Development Manager (BDM)', 'Business - Other',\n",
       "       'Operations Support - Other', 'Team Leader', 'Technical Architect',\n",
       "       'BFSI', 'Production / Manufacturing Head', 'Data Scientist',\n",
       "       'DBA / Data warehousing - Other', 'Operations - Other',\n",
       "       'Analytics Consultant', 'Data warehouse Developer',\n",
       "       'IT Project Lead', 'Research Associate / Engineer',\n",
       "       'Manager - Data Science', 'Product Analyst',\n",
       "       'IT Consulting - Other', 'Branch Sales Executive',\n",
       "       'Accountant / Accounts Executive', 'Clinical research Scientist',\n",
       "       'Product Manager', 'Full Stack Developer',\n",
       "       'Customer Success Manager',\n",
       "       'Data warehouse Architect / Consultant', 'Research Scientist',\n",
       "       'HR Generalist', 'Recruitment & Talent Acquisition - Other',\n",
       "       'System Security Engineer', 'Sr. Consultant', 'Country Head',\n",
       "       'Logistics Executive', 'Technical Support - Voice / Blended',\n",
       "       'BI Developer', 'Market Research Manager',\n",
       "       'BD / Pre Sales - Other', 'Technical Support - Non Voice',\n",
       "       'Network Manager / Administrator'], dtype=object)"
      ]
     },
     "execution_count": 5,
     "metadata": {},
     "output_type": "execute_result"
    }
   ],
   "source": [
    "df['role'].unique()"
   ]
  },
  {
   "cell_type": "code",
   "execution_count": 6,
   "id": "9edd82e9",
   "metadata": {
    "scrolled": true
   },
   "outputs": [
    {
     "data": {
      "text/plain": [
       "array(['B.Tech/B.E. in Computers, B.Sc in Computers, BCA in Computers',\n",
       "       'Any Graduate', 'MBA/PGDM in Any Specialization',\n",
       "       'B.Tech/B.E. in Any Specialization', 'Other Post Graduate',\n",
       "       'B.Sc in Computers',\n",
       "       'B.Sc in Any Specialization, BCA in Any Specialization, B.Tech/B.E. in Any Specialization',\n",
       "       'BCA in Any Specialization, B.Sc in Any Specialization, B.Tech/B.E. in Any Specialization',\n",
       "       'BCA in Computers, B.Sc in Any Specialization, B.Com in Commerce, Any Graduate, B.Tech/B.E. in Any Specialization',\n",
       "       'B.B.A/ B.M.S in Management, Any Graduate',\n",
       "       'BCA in Computers, B.Tech/B.E. in Computers, B.Sc in Maths, Computers, Statistics, B.A in Economics, Statistics',\n",
       "       'B.A in Economics, Statistics, Maths, B.Tech/B.E. in Computers, B.Sc in Maths, Computers, Statistics, BCA in Computers',\n",
       "       'MBA/PGDM in Finance', 'B.Tech/B.E. in Civil',\n",
       "       'Graduation Not Required', 'Any Postgraduate',\n",
       "       'B.Sc in Maths, Computers, Statistics',\n",
       "       'B.Com in Any Specialization',\n",
       "       'B.Tech/B.E. in Any Specialization, B.Sc in Any Specialization, BCA in Any Specialization',\n",
       "       'B.Sc in Maths, Physics, Computers, Diploma in Engineering',\n",
       "       'MBA/PGDM in Marketing',\n",
       "       'Any Graduate, B.B.A/ B.M.S in Management',\n",
       "       'BCA in Any Specialization, B.Sc in Computers, B.Tech/B.E. in Any Specialization',\n",
       "       'B.Tech/B.E. in Production/Industrial',\n",
       "       'B.Tech/B.E. in Any Specialization, Any Graduate',\n",
       "       'B.A in Maths, B.Sc in Maths, B.Tech/B.E. in Any Specialization',\n",
       "       'BCA in Any Specialization, B.Tech/B.E. in Any Specialization, B.Sc in Any Specialization',\n",
       "       'B.Tech/B.E. in Any Specialization, B.Sc in Any Specialization',\n",
       "       'B.Sc in Any Specialization, B.Tech/B.E. in Any Specialization, BCA in Any Specialization',\n",
       "       'B.Sc in Computers, B.Tech/B.E. in Computers, BCA in Computers',\n",
       "       'BCA in Any Specialization',\n",
       "       'B.Tech/B.E. in Production/Industrial, BCA in Computers',\n",
       "       'Any Graduate, B.Tech/B.E. in Production/Industrial',\n",
       "       'B.Tech/B.E. in Computers, BCA in Computers, B.A in Statistics, Maths, B.Sc in Maths, Computers, Statistics',\n",
       "       'B.Sc in Chemistry',\n",
       "       'CA in Any Specialization, MBA/PGDM in Finance',\n",
       "       'B.B.A/ B.M.S in Any Specialization, B.A in Economics',\n",
       "       'B.A in Statistics, Maths, B.Sc in Maths, Computers, Statistics, B.Tech/B.E. in Computers, BCA in Computers',\n",
       "       'B.A in Economics, Maths, B.Sc in Maths',\n",
       "       'B.Com in Any Specialization, B.Tech/B.E. in Computers, B.A in Economics',\n",
       "       'B.Tech/B.E. in Computers', 'B.Tech/B.E.',\n",
       "       'B.Tech/B.E. in Electrical',\n",
       "       'B.Tech/B.E. in Computers, B.Sc in Maths, Computers, Statistics, BCA in Computers, B.A in Statistics, Maths',\n",
       "       'Any Graduate, B.Tech/B.E. in Any Specialization, B.Sc in Any Specialization, BCA in Any Specialization, B.B.A/ B.M.S in Any Specialization, B.Com in Any Specialization',\n",
       "       'B.Tech/B.E. in Any Specialization, BCA in Any Specialization, B.Sc in Any Specialization',\n",
       "       'Any Graduate, B.Tech/B.E. in Production/Industrial, B.Sc in Chemistry',\n",
       "       'B.B.A/ B.M.S in Management', 'Any Graduate, BCA in Computers',\n",
       "       'Any Graduate, B.A in Any Specialization',\n",
       "       'B.A in Any Specialization, B.Tech/B.E. in Any Specialization, Any Graduate, B.Sc in Any Specialization',\n",
       "       'Any Graduate, B.Tech/B.E. in Any Specialization',\n",
       "       'B.Tech/B.E. in Production/Industrial, B.Sc in Chemistry',\n",
       "       'B.Sc in Chemistry, B.Com in Commerce, B.Tech/B.E. in Production/Industrial',\n",
       "       'BCA in Computers, B.A in Economics, Statistics, Maths, B.Tech/B.E. in Computers, B.Sc in Maths, Statistics, Computers',\n",
       "       'MS/M.Sc(Science) in Data Informatics, Maths, Computers, Statistics',\n",
       "       'B.Tech/B.E. in Computers, B.Sc in Maths, Computers, Statistics, BCA in Computers, B.A in Economics, Statistics, Maths',\n",
       "       'B.A',\n",
       "       'B.Sc in Maths, Statistics, Computers, B.A in Statistics, Maths, BCA in Computers, B.Tech/B.E. in Computers',\n",
       "       'Any Graduate, B.Sc in Any Specialization, B.Tech/B.E. in Any Specialization',\n",
       "       'B.Sc in Maths, Statistics',\n",
       "       'B.Tech/B.E. in Any Specialization, BCA in Any Specialization',\n",
       "       'Any Graduate, B.Sc in Chemistry, B.Tech/B.E. in Production/Industrial',\n",
       "       'B.Tech/B.E. in Any Specialization, B.A in Any Specialization, B.Sc in Any Specialization',\n",
       "       'B.A in Any Specialization, Any Graduate',\n",
       "       'Any Graduate, Diploma in Any Specialization',\n",
       "       'B.Pharma in Any Specialization',\n",
       "       'B.Tech/B.E. in Any Specialization, Diploma in Any Specialization',\n",
       "       'BCA in Computers, B.Sc in Computers, B.Tech/B.E. in Computers',\n",
       "       'B.Sc in Computers, Diploma in Any Specialization, B.Tech/B.E. in Any Specialization',\n",
       "       'Any Graduate, B.Sc in Computers, B.Tech/B.E. in Computers',\n",
       "       'B.Sc in Any Specialization', 'BDS in Dentistry, Any Graduate',\n",
       "       'BCA in Any Specialization, B.Tech/B.E. in Any Specialization',\n",
       "       'B.A in Any Specialization, B.Sc in Any Specialization',\n",
       "       'B.A, B.Sc in Chemistry, Any Graduate',\n",
       "       'B.B.A/ B.M.S in Management, B.A',\n",
       "       'B.Sc in Chemistry, BCA in Computers',\n",
       "       'B.Tech/B.E. in Any Specialization, B.Sc in Any Specialization, B.A in Any Specialization',\n",
       "       'B.A in Any Specialization, B.Sc in Any Specialization, B.Tech/B.E. in Any Specialization',\n",
       "       'BCA in Computers', 'B.Sc in Computers, B.Tech/B.E. in Computers',\n",
       "       'B.A in Maths, B.Sc in Maths, Statistics',\n",
       "       'B.Sc in Maths, Physics, B.Tech/B.E. in Computers, B.A in Maths',\n",
       "       'B.A in Fine Arts, B.Tech/B.E. in Production/Industrial, Any Graduate',\n",
       "       'B.B.A/ B.M.S in Any Specialization, Any Graduate',\n",
       "       'B.Tech/B.E. in Computers, BCA in Computers, B.Sc in Computers',\n",
       "       'B.Sc in Chemistry, B.Tech/B.E. in Production/Industrial',\n",
       "       'B.Tech/B.E. in Any Specialization, B.Sc in Maths, Statistics',\n",
       "       'B.B.A/ B.M.S in Management, Any Graduate, B.Tech/B.E. in Production/Industrial',\n",
       "       'B.Tech/B.E. in Production/Industrial, Any Graduate',\n",
       "       'B.Sc in Computers, B.Tech/B.E. in Any Specialization, BCA in Any Specialization',\n",
       "       'LLB in Law', 'B.A, B.B.A/ B.M.S in Management, Any Graduate',\n",
       "       'BCA in Computers, B.Sc in Maths, Computers, Statistics, B.Tech/B.E. in Computers, B.A in Statistics, Maths',\n",
       "       'BCA in Computers, B.Tech/B.E. in Computers, B.Sc in Computers',\n",
       "       'B.Sc in Computers, BCA in Computers, B.Tech/B.E. in Computers',\n",
       "       'B.A, Any Graduate', 'Diploma in Any Specialization',\n",
       "       'B.A in Economics',\n",
       "       'B.Tech/B.E. in Production/Industrial, B.Com in Commerce',\n",
       "       'Diploma in Mechanical, Any Graduate'], dtype=object)"
      ]
     },
     "execution_count": 6,
     "metadata": {},
     "output_type": "execute_result"
    }
   ],
   "source": [
    "df['education'].unique()"
   ]
  },
  {
   "cell_type": "code",
   "execution_count": 7,
   "id": "ea31d675",
   "metadata": {
    "scrolled": true
   },
   "outputs": [
    {
     "data": {
      "text/plain": [
       "Data Analyst                          566\n",
       "Business Analyst                      133\n",
       "Back End Developer                     25\n",
       "System Analyst                         21\n",
       "Other                                  19\n",
       "Database Architect / Designer          18\n",
       "Non Tech Support - Voice / Blended     16\n",
       "Non Tech Support - Non Voice           16\n",
       "Data Science & Analytics - Other       11\n",
       "Financial Analyst                       8\n",
       "Database Analyst                        7\n",
       "Database Administrator                  6\n",
       "Data Engineer                           6\n",
       "Software Development - Other            5\n",
       "IT Support - Other                      4\n",
       "Technical Lead                          4\n",
       "Analytics / BI Manager                  4\n",
       "Operations Support - Other              4\n",
       "BFSI                                    4\n",
       "Data Scientist                          4\n",
       "Name: role, dtype: int64"
      ]
     },
     "execution_count": 7,
     "metadata": {},
     "output_type": "execute_result"
    }
   ],
   "source": [
    "df['role'].value_counts().head(20)"
   ]
  },
  {
   "cell_type": "code",
   "execution_count": 8,
   "id": "b61af583",
   "metadata": {},
   "outputs": [
    {
     "data": {
      "text/plain": [
       "Any Graduate                                                                                                             717\n",
       "B.Tech/B.E. in Any Specialization                                                                                         52\n",
       "B.Tech/B.E. in Computers                                                                                                  28\n",
       "B.Tech/B.E. in Production/Industrial                                                                                      15\n",
       "B.Sc in Any Specialization, BCA in Any Specialization, B.Tech/B.E. in Any Specialization                                   6\n",
       "                                                                                                                        ... \n",
       "BCA in Computers, B.A in Economics, Statistics, Maths, B.Tech/B.E. in Computers, B.Sc in Maths, Statistics, Computers      1\n",
       "B.Sc in Chemistry, B.Com in Commerce, B.Tech/B.E. in Production/Industrial                                                 1\n",
       "B.Tech/B.E. in Production/Industrial, B.Sc in Chemistry                                                                    1\n",
       "MBA/PGDM in Finance                                                                                                        1\n",
       "Diploma in Mechanical, Any Graduate                                                                                        1\n",
       "Name: education, Length: 102, dtype: int64"
      ]
     },
     "execution_count": 8,
     "metadata": {},
     "output_type": "execute_result"
    }
   ],
   "source": [
    "df['education'].value_counts()"
   ]
  },
  {
   "cell_type": "code",
   "execution_count": 9,
   "id": "9b283c0a",
   "metadata": {},
   "outputs": [
    {
     "data": {
      "text/plain": [
       "Not Disclosed                     855\n",
       "₹ 15,00,000 - 30,00,000 P.A.        4\n",
       "₹ 3,00,000 - 5,00,000 P.A.          4\n",
       "₹ 15,00,000 - 27,50,000 P.A.        3\n",
       "₹ 60,00,000 - 1,00,00,000 P.A.      3\n",
       "                                 ... \n",
       "₹ 2,50,000 - 3,50,000 P.A.          1\n",
       "₹ 3,00,000 - 4,50,000 P.A.          1\n",
       "₹ 7,00,000 - 13,00,000 P.A.         1\n",
       "₹ 7,00,000 - 9,00,000 P.A.          1\n",
       "₹ 2,00,000 - 7,00,000 P.A.          1\n",
       "Name: salary, Length: 82, dtype: int64"
      ]
     },
     "execution_count": 9,
     "metadata": {},
     "output_type": "execute_result"
    }
   ],
   "source": [
    "df['salary'].value_counts()"
   ]
  },
  {
   "cell_type": "code",
   "execution_count": 10,
   "id": "077969a7",
   "metadata": {},
   "outputs": [
    {
     "data": {
      "text/plain": [
       "0.8841778697001034"
      ]
     },
     "execution_count": 10,
     "metadata": {},
     "output_type": "execute_result"
    }
   ],
   "source": [
    "# percentage of not disclosed\n",
    "855/df.shape[0]"
   ]
  },
  {
   "cell_type": "code",
   "execution_count": 11,
   "id": "0b4c1b2a",
   "metadata": {
    "scrolled": true
   },
   "outputs": [
    {
     "data": {
      "text/plain": [
       "2 - 5 years      83\n",
       "5 - 10 years     60\n",
       "2 - 4 years      60\n",
       "3 - 8 years      54\n",
       "1 - 3 years      50\n",
       "3 - 6 years      49\n",
       "2 - 7 years      48\n",
       "0 - 2 years      41\n",
       "1 - 4 years      41\n",
       "3 - 5 years      36\n",
       "5 - 8 years      31\n",
       "1 - 6 years      23\n",
       "1 - 2 years      22\n",
       "2 - 3 years      22\n",
       "4 - 9 years      22\n",
       "3 - 7 years      20\n",
       "4 - 6 years      20\n",
       "4 - 7 years      19\n",
       "2 - 6 years      18\n",
       "0 - 1 years      18\n",
       "6 - 11 years     18\n",
       "3 - 4 years      17\n",
       "1 - 5 years      17\n",
       "5 - 7 years      17\n",
       "0 - 3 years      15\n",
       "0 - 4 years      13\n",
       "7 - 12 years     12\n",
       "4 - 8 years      11\n",
       "6 - 8 years       9\n",
       "8 - 10 years      9\n",
       "7 - 10 years      7\n",
       "4 - 5 years       6\n",
       "0 - 5 years       6\n",
       "8 - 13 years      6\n",
       "5 - 9 years       5\n",
       "8 - 12 years      5\n",
       "6 - 9 years       5\n",
       "10 - 20 years     4\n",
       "0 years           4\n",
       "0 - 6 years       4\n",
       "2 - 8 years       3\n",
       "3 - 9 years       3\n",
       "7 - 9 years       3\n",
       "5 - 6 years       3\n",
       "10 - 15 years     3\n",
       "6 - 10 years      2\n",
       "7 - 11 years      2\n",
       "10 - 12 years     2\n",
       "1 years           1\n",
       "15 - 18 years     1\n",
       "Name: experience, dtype: int64"
      ]
     },
     "execution_count": 11,
     "metadata": {},
     "output_type": "execute_result"
    }
   ],
   "source": [
    "df['experience'].value_counts().head(50)"
   ]
  },
  {
   "cell_type": "code",
   "execution_count": 12,
   "id": "40c18a58",
   "metadata": {
    "scrolled": true
   },
   "outputs": [
    {
     "data": {
      "text/plain": [
       "Optum4.1(2117 Reviews)                               21\n",
       "Varite3.7(81 Reviews)                                18\n",
       "Seven Consultancy (HR Solution)                      17\n",
       "Huquo Consulting Pvt. Ltd                            16\n",
       "Applycup Hiring Solutions Llp4.9(15 Reviews)         10\n",
       "Deutsche Bank4.2(2087 Reviews)                        9\n",
       "Wells Fargo4.2(3470 Reviews)                          9\n",
       "BNY Mellon4.2(2542 Reviews)                           8\n",
       "Megma Services                                        6\n",
       "Anicalls4.7(2 Reviews)                                6\n",
       "Skillety3.8(3 Reviews)                                6\n",
       "Diverse Lynx3.3(76 Reviews)                           6\n",
       "Goalreify Ventures4.8(5 Reviews)                      6\n",
       "SAC Management1.9(14 Reviews)                         5\n",
       "Urjanet Energy Solutions3.8(80 Reviews)               5\n",
       "ICE3.8(20 Reviews)                                    5\n",
       "Virtue Analytics4.6(7 Reviews)                        5\n",
       "Walmart4.2(12887 Reviews)                             5\n",
       "Institutional Shareholder Services3.5(30 Reviews)     4\n",
       "Boston Consulting Group4.1(144 Reviews)               4\n",
       "Name: company_name, dtype: int64"
      ]
     },
     "execution_count": 12,
     "metadata": {},
     "output_type": "execute_result"
    }
   ],
   "source": [
    "df['company_name'].value_counts().head(20)"
   ]
  },
  {
   "cell_type": "code",
   "execution_count": 13,
   "id": "133036d9",
   "metadata": {
    "scrolled": true
   },
   "outputs": [
    {
     "data": {
      "text/plain": [
       "Bangalore/Bengaluru                            229\n",
       "Mumbai                                          84\n",
       "Pune                                            63\n",
       "Hyderabad/Secunderabad                          63\n",
       "Chennai                                         60\n",
       "Gurgaon/Gurugram                                56\n",
       "Noida                                           30\n",
       "Bengaluru                                       24\n",
       "Remote                                          22\n",
       "New Delhi                                       18\n",
       "remote                                          14\n",
       "Ahmedabad                                       12\n",
       "Gurgaon/Gurugram, Bangalore/Bengaluru           10\n",
       "Hyderabad                                       10\n",
       "Hyderabad/Secunderabad, Bangalore/Bengaluru      9\n",
       "Mumbai (All Areas)                               9\n",
       "Chennai, Bangalore/Bengaluru                     7\n",
       "Jaipur                                           7\n",
       "Gurgaon                                          6\n",
       "Lucknow                                          6\n",
       "Name: location, dtype: int64"
      ]
     },
     "execution_count": 13,
     "metadata": {},
     "output_type": "execute_result"
    }
   ],
   "source": [
    "df['location'].value_counts().head(20)"
   ]
  },
  {
   "cell_type": "code",
   "execution_count": 14,
   "id": "72eb233a",
   "metadata": {
    "scrolled": true
   },
   "outputs": [
    {
     "data": {
      "text/plain": [
       "IT Services & Consulting                                 327\n",
       "Recruitment / Staffing                                   124\n",
       "Banking                                                   59\n",
       "Internet                                                  50\n",
       "Analytics / KPO / Research                                43\n",
       "Software Product                                          33\n",
       "Financial Services                                        31\n",
       "Management Consulting                                     31\n",
       "BPO / Call Centre                                         22\n",
       "Pharmaceutical & Life Sciences                            18\n",
       "Medical Services / Hospital                               16\n",
       "Education / Training                                      15\n",
       "Industrial Equipment / Machinery                          14\n",
       "Advertising & Marketing                                   14\n",
       "Film / Music / Entertainment                              12\n",
       "Retail                                                    11\n",
       "Automobile                                                10\n",
       "Insurance                                                 10\n",
       "Telecom / ISP                                             10\n",
       "Courier / Logistics                                        7\n",
       "Miscellaneous                                              7\n",
       "Hardware & Networking                                      7\n",
       "Engineering & Construction                                 6\n",
       "Accounting / Auditing                                      6\n",
       "Travel & Tourism                                           5\n",
       "Petrochemical / Plastics / Rubber                          5\n",
       "Electronic Components / Semiconductors                     5\n",
       "FMCG                                                       4\n",
       "Aviation                                                   4\n",
       "NGO / Social Services / Industry Associations              4\n",
       "Electronics Manufacturing                                  4\n",
       "Medical Devices & Equipment                                4\n",
       "Real Estate                                                4\n",
       "Building Material                                          3\n",
       "E-Learning / EdTech                                        3\n",
       "Consumer Electronics & Appliances                          3\n",
       "Gems & Jewellery                                           3\n",
       "Power                                                      3\n",
       "NBFC                                                       3\n",
       "Fitness & Wellness                                         3\n",
       "Ports & Shipping                                           2\n",
       "Investment Banking / Venture Capital / Private Equity      2\n",
       "Events / Live Entertainment                                2\n",
       "Gaming                                                     2\n",
       "Defence & Aerospace                                        2\n",
       "Beverage                                                   1\n",
       "Printing & Publishing                                      1\n",
       "Government / Public Administration                         1\n",
       "Auto Components                                            1\n",
       "Textile & Apparel                                          1\n",
       "Name: industry_type, dtype: int64"
      ]
     },
     "execution_count": 14,
     "metadata": {},
     "output_type": "execute_result"
    }
   ],
   "source": [
    "df['industry_type'].value_counts().head(50)"
   ]
  },
  {
   "cell_type": "code",
   "execution_count": 15,
   "id": "3f4510e6",
   "metadata": {},
   "outputs": [
    {
     "data": {
      "text/plain": [
       "Full Time, Permanent                958\n",
       "Full Time, Temporary/Contractual      9\n",
       "Name: employment_type, dtype: int64"
      ]
     },
     "execution_count": 15,
     "metadata": {},
     "output_type": "execute_result"
    }
   ],
   "source": [
    "df['employment_type'].value_counts()"
   ]
  },
  {
   "cell_type": "code",
   "execution_count": 16,
   "id": "76417c18",
   "metadata": {},
   "outputs": [
    {
     "data": {
      "text/plain": [
       "Data Science & Analytics                   729\n",
       "Engineering - Software & QA                 83\n",
       "Customer Success, Service & Operations      48\n",
       "IT & Information Security                   30\n",
       "Other                                       19\n",
       "Finance & Accounting                        10\n",
       "BFSI, Investments & Trading                  8\n",
       "Sales & Business Development                 6\n",
       "Research & Development                       6\n",
       "Product Management                           5\n",
       "Marketing & Communication                    5\n",
       "Consulting                                   5\n",
       "Human Resources                              4\n",
       "Risk Management & Compliance                 2\n",
       "Project & Program Management                 2\n",
       "Legal & Regulatory                           1\n",
       "Production, Manufacturing & Engineering      1\n",
       "Strategic & Top Management                   1\n",
       "Procurement & Supply Chain                   1\n",
       "Engineering - Hardware & Networks            1\n",
       "Name: department, dtype: int64"
      ]
     },
     "execution_count": 16,
     "metadata": {},
     "output_type": "execute_result"
    }
   ],
   "source": [
    "df['department'].value_counts()"
   ]
  },
  {
   "cell_type": "code",
   "execution_count": 17,
   "id": "2dbf2d4c",
   "metadata": {},
   "outputs": [
    {
     "data": {
      "text/plain": [
       "1.0     651\n",
       "NaN     263\n",
       "2.0      14\n",
       "4.0       9\n",
       "5.0       9\n",
       "3.0       4\n",
       "10.0      3\n",
       "9.0       3\n",
       "7.0       3\n",
       "6.0       2\n",
       "20.0      2\n",
       "50.0      1\n",
       "87.0      1\n",
       "21.0      1\n",
       "30.0      1\n",
       "Name: num_openings, dtype: int64"
      ]
     },
     "execution_count": 17,
     "metadata": {},
     "output_type": "execute_result"
    }
   ],
   "source": [
    "df['num_openings'].value_counts(dropna=False)"
   ]
  },
  {
   "cell_type": "code",
   "execution_count": 18,
   "id": "c9421e4e",
   "metadata": {},
   "outputs": [
    {
     "data": {
      "text/plain": [
       "863    87.0\n",
       "106    50.0\n",
       "890    30.0\n",
       "883    21.0\n",
       "423    20.0\n",
       "Name: num_openings, dtype: float64"
      ]
     },
     "execution_count": 18,
     "metadata": {},
     "output_type": "execute_result"
    }
   ],
   "source": [
    "df['num_openings'].nlargest()"
   ]
  },
  {
   "cell_type": "code",
   "execution_count": 19,
   "id": "fd25b1ab",
   "metadata": {},
   "outputs": [
    {
     "data": {
      "text/plain": [
       "job_title          EDP officer / Data Analyst | Jhunjhunun | Raja...\n",
       "company_name                                      RMW India Services\n",
       "experience                                               0 - 4 years\n",
       "salary                                    ₹ 3,00,000 - 5,00,000 P.A.\n",
       "location                          Chandrapur, Jhunjhunun, Ahmednagar\n",
       "job_description    - Process various forms for admission, test re...\n",
       "role                                                    Data Analyst\n",
       "industry_type                                    E-Learning / EdTech\n",
       "department                                  Data Science & Analytics\n",
       "employment_type                                 Full Time, Permanent\n",
       "role_category                      Business Intelligence & Analytics\n",
       "education                                               Any Graduate\n",
       "key_skills         [Advanced Excel, Report Preparation, Data Entr...\n",
       "date_posted                                              18 days ago\n",
       "num_openings                                                    87.0\n",
       "num_applicants                                                   780\n",
       "Name: 863, dtype: object"
      ]
     },
     "execution_count": 19,
     "metadata": {},
     "output_type": "execute_result"
    }
   ],
   "source": [
    "df.iloc[863]"
   ]
  },
  {
   "cell_type": "code",
   "execution_count": 20,
   "id": "f251f0dc",
   "metadata": {},
   "outputs": [
    {
     "name": "stdout",
     "output_type": "stream",
     "text": [
      "[('SQL', 400), ('Data Analyst', 313), ('Python', 273), ('Data analysis', 201), ('Analytical', 163), ('Analytics', 154), ('Excel', 100), ('Data management', 100), ('Data Analysis', 91), ('data analysis', 88), ('Data Analytics', 85), ('Data mining', 83), ('Data quality', 81), ('Data collection', 75), ('Tableau', 67), ('Business intelligence', 65), ('Computer science', 63), ('Data analytics', 62), ('Monitoring', 58), ('SAS', 57), ('Operations', 53), ('Management', 53), ('data visualization', 48), ('Data modeling', 44), ('power bi', 43), ('Machine learning', 42), ('Process improvement', 42), ('Automation', 42), ('MySQL', 41), ('Consulting', 39), ('Macros', 36), ('Recruitment', 35), ('MIS', 34), ('MS Office', 34), ('Advanced Excel', 34), ('data science', 33), ('CRM', 31), ('python', 31), ('Project management', 31), ('Financial services', 31), ('Analytical skills', 31), ('Power BI', 30), ('Data Management', 30), ('Coding', 29), ('microsoft', 29), ('Healthcare', 29), ('Oracle', 27), ('Statistics', 26), ('tableau', 26), ('sql', 26)]\n"
     ]
    }
   ],
   "source": [
    "# Flatten the list of skills into a single list\n",
    "skills = list(chain.from_iterable(df['key_skills']))\n",
    "\n",
    "# Count the occurrences of each skill\n",
    "skill_counts = Counter(skills)\n",
    "\n",
    "# Sort the skills by their count in descending order\n",
    "most_common_skills = skill_counts.most_common()\n",
    "\n",
    "# Print the most common skills\n",
    "print(most_common_skills[:50])"
   ]
  },
  {
   "cell_type": "code",
   "execution_count": 21,
   "id": "f25d9508",
   "metadata": {},
   "outputs": [
    {
     "data": {
      "text/plain": [
       "Business Intelligence & Analytics    709\n",
       "Software Development                  42\n",
       "DBA / Data warehousing                41\n",
       "IT Infrastructure Services            21\n",
       "Other                                 19\n",
       "Non Voice                             18\n",
       "Voice / Blended                       17\n",
       "Data Science & Analytics - Other      11\n",
       "Data Science & Machine Learning        9\n",
       "Finance                                8\n",
       "Name: role_category, dtype: int64"
      ]
     },
     "execution_count": 21,
     "metadata": {},
     "output_type": "execute_result"
    }
   ],
   "source": [
    "df['role_category'].value_counts().head(10)"
   ]
  },
  {
   "cell_type": "code",
   "execution_count": 22,
   "id": "2ba95d66",
   "metadata": {},
   "outputs": [
    {
     "data": {
      "text/plain": [
       "array(['1 day ago', '13 days ago', 'Few Hours Ago', '5 days ago',\n",
       "       'Just now', '6 days ago', '8 days ago', '14 days ago',\n",
       "       '15 days ago', '7 days ago', '12 days ago', '4 days ago',\n",
       "       '11 days ago', '3 days ago', '30+ days ago', '25 days ago',\n",
       "       '22 days ago', '27 days ago', '10 days ago', '19 days ago',\n",
       "       '29 days ago', '18 days ago', '20 days ago', '17 days ago',\n",
       "       '28 days ago', '16 days ago', '21 days ago', '26 days ago',\n",
       "       '24 days ago', '30 days ago'], dtype=object)"
      ]
     },
     "execution_count": 22,
     "metadata": {},
     "output_type": "execute_result"
    }
   ],
   "source": [
    "df['date_posted'].unique()"
   ]
  },
  {
   "cell_type": "code",
   "execution_count": 23,
   "id": "8fc1e4d1",
   "metadata": {},
   "outputs": [
    {
     "data": {
      "text/plain": [
       "30+ days ago    531\n",
       "6 days ago       33\n",
       "11 days ago      30\n",
       "18 days ago      26\n",
       "8 days ago       26\n",
       "Name: date_posted, dtype: int64"
      ]
     },
     "execution_count": 23,
     "metadata": {},
     "output_type": "execute_result"
    }
   ],
   "source": [
    "df['date_posted'].value_counts().head()"
   ]
  },
  {
   "cell_type": "code",
   "execution_count": 24,
   "id": "b41376ef",
   "metadata": {},
   "outputs": [
    {
     "data": {
      "text/plain": [
       "array(['2647', '145', '8751', '1358', '50', '263', 'Less than 10', '89',\n",
       "       '432', '308', '4232', '4315', '1570', '4789', '158', '1338', '344',\n",
       "       '934', '52', '1141', '1241', '1940', '1170', '984', '305', '398',\n",
       "       '59', '57', '379', '1341', '1159', '6097', '64', '314', '140',\n",
       "       '212', '8853', '4634', '32', '96', '114', '110', '319', '840',\n",
       "       '573', '2341', '222', '200', '69', '137', '94', '102', '225',\n",
       "       '105', '1498', '1068', '159', '395', '851', '106', '121', '10',\n",
       "       '70', '60', '527', '51', '47', '3824', '1366', '371', '1883', '33',\n",
       "       '71', '246', '1245', '45', '35', '467', '564', '649', '125', '161',\n",
       "       '103', '260', '437', '151', '231', '205', '363', '505', '219',\n",
       "       '7727', '1586', '188', '116', '422', '38', '12327', '1925',\n",
       "       '83470', '3383', '415', '412', '904', '3269', '881', '493', '155',\n",
       "       '442', '496', '2694', '115', '1127', '384', '182', '1578', '243',\n",
       "       '236', '46', '306', '208', '802', '296', '274', '43', '179',\n",
       "       '4768', '1243', '938', '80', '8279', '2069', '36', '915', '748',\n",
       "       '500', '192', '529', '293', '85', '832', '13', '108', '101', '216',\n",
       "       '40', '857', '860', '689', '1793', '304', '24', '2589', '478',\n",
       "       '280', '792', '1438', '531', '173', '191', '136', '543', '1201',\n",
       "       '302', '91', '18', '53', '771', '640', '2101', '2096', '5471',\n",
       "       '5364', '63', '2562', '1772', '9104', '2910', '1728', '2342',\n",
       "       '3599', '9528', '288', '252', '660', '595', '12516', '4370',\n",
       "       '3338', '778', '1188', '457', '693', '466', '201', '39', '588',\n",
       "       '37', '154', '375', '582', '56', '30', '2419', '548', '3976',\n",
       "       '4123', '4196', '165', '1132', '596', '2271', '74', '1082', '3865',\n",
       "       '1040', '5349', '4749', '2699', '248', '3561', '4055', '1994',\n",
       "       '1552', '1339', '510', '7875', '623', '2099', '408', '1808',\n",
       "       '5405', '393', '3608', '2650', '382', '974', '210', '639', '164',\n",
       "       '156', '908', '847', '541', '763', '699', '870', '2780', '133',\n",
       "       '3224', '117', '1251', '254', '430', '607', '100', '340', '134',\n",
       "       '332', '320', '6146', '669', '78', '143', '152', '329', '3282',\n",
       "       '58', '957', '2198', '7853', '271', '99', '14', '82', '160',\n",
       "       '1371', '167', '15', '189', '463', '353', '3980', '3738', '402',\n",
       "       '461', '55', '583', '2912', '1116', '449', '157', '317', '1162',\n",
       "       '695', '190', '170', '207', '1161', '147', '62', '150', '291',\n",
       "       '12', '1333', '1916', '452', '4221', '1042', '84', '2801', '421',\n",
       "       '264', '519', '144', '1067', '561', '178', '930', '209', '153',\n",
       "       '5636', '905', '1310', '594', '193', '1073', '390', '269', '1059',\n",
       "       '1391', '206', '19', '661', '194', '1565', '5430', '488', '1184',\n",
       "       '842', '797', '591', '199', '119', '61', '1740', '90', '359',\n",
       "       '203', '235', '29', '787', '26', '2337', '92', '370', '986', '148',\n",
       "       '299', '234', '128', '3301', '185', '1218', '138', '397', '992',\n",
       "       '3683', '1573', '132', '95', '54', '49', '118', '433', '2251',\n",
       "       '87', '73', '253', '545', '663', '665', '195', '229', '130', '233',\n",
       "       '93', '1385', '429', '2104', '104', '729', '135', '641', '120',\n",
       "       '511', '295', '327', '606', '1413', '4632', '2371', '577', '1417',\n",
       "       '81', '358', '242', '3675', '602', '810', '677', '2285', '75',\n",
       "       '506', '916', '547', '615', '1859', '66', '25', '2152', '972',\n",
       "       '535', '1419', '1009', '2027', '900', '898', '31', '23', '88',\n",
       "       '129', '8004', '1134', '1787', '109', '127', '473', '131', '163',\n",
       "       '1221', '77', '86', '989', '124', '42', '211', '404', '734', '76',\n",
       "       '631', '79', '1936', '338', '593', '336', '793', '756', '68',\n",
       "       '550', '537', '508', '139', '259', '854', '620', '3084', '1840',\n",
       "       '168', '559', '107', '443', '197', '921', '498', '1364', '2338',\n",
       "       '416', '425', '1088', '298', '1021', '444', '601', '503', '1197',\n",
       "       '568', '213', '1070', '215', '655', '285', '779', '546', '2497',\n",
       "       '985', '1125', '224', '250', '586', '316', '256', '3381', '585',\n",
       "       '1954', '2804', '618', '480', '16', '707', '72', '687', '276',\n",
       "       '257', '258', '592', '223', '240', '48', '486', '753', '668',\n",
       "       '560', '17', '181', '300', '255', '804', '1514', '617', '184',\n",
       "       '391', '494', '554', '362', '499', '244', '1061', '3678', '813',\n",
       "       '951', '177', '1344', '183', '2614', '171', '238', '141', '454',\n",
       "       '342', '22', '504', '424', '479', '313', '162', '4783', '267',\n",
       "       '67', '705', '551', '385', '566', '149', '174', '111', '567',\n",
       "       '3265', '2690', '1190', '696', '1074', '685', '270', '239', '737',\n",
       "       '279', '2898', '780', '292', '4278', '2849', '1990', '2173',\n",
       "       '2446', '3741', '477', '326', '691', '83', '528', '1667', '765',\n",
       "       '1051', '1233', '322', '610', '1416', '521', '123', '2124', '1892',\n",
       "       '1650', '146', '824', '446', '277', '517', '41', '2807', '2250',\n",
       "       '278', '97', '730', '1430', '628', '247'], dtype=object)"
      ]
     },
     "execution_count": 24,
     "metadata": {},
     "output_type": "execute_result"
    }
   ],
   "source": [
    "df['num_applicants'].unique()"
   ]
  },
  {
   "cell_type": "code",
   "execution_count": 25,
   "id": "ebc17974",
   "metadata": {},
   "outputs": [
    {
     "name": "stderr",
     "output_type": "stream",
     "text": [
      "C:\\Users\\Moham\\AppData\\Local\\Temp\\ipykernel_9384\\3904531231.py:2: FutureWarning: The default value of regex will change from True to False in a future version.\n",
      "  df['company_name'] = df['company_name'].str.replace(r'\\d+\\.\\d+\\(.*$', '')\n"
     ]
    }
   ],
   "source": [
    "# cleaning company name to remove reviews which accompanies with it sometimes\n",
    "df['company_name'] = df['company_name'].str.replace(r'\\d+\\.\\d+\\(.*$', '')"
   ]
  },
  {
   "cell_type": "code",
   "execution_count": 26,
   "id": "c4eac574",
   "metadata": {
    "scrolled": true
   },
   "outputs": [
    {
     "data": {
      "text/plain": [
       "Optum                                      21\n",
       "Varite                                     18\n",
       "Huquo Consulting Pvt. Ltd                  18\n",
       "Seven Consultancy (HR Solution)            17\n",
       "Applycup Hiring Solutions Llp              10\n",
       "Wells Fargo                                 9\n",
       "Deutsche Bank                               9\n",
       "BNY Mellon                                  8\n",
       "Skillety                                    6\n",
       "Anicalls                                    6\n",
       "Goalreify Ventures                          6\n",
       "Diverse Lynx                                6\n",
       "Megma Services                              6\n",
       "Virtue Analytics                            5\n",
       "SAC Management                              5\n",
       "Urjanet Energy Solutions                    5\n",
       "Walmart                                     5\n",
       "ICE                                         5\n",
       "Busisol Sourcing (India)                    4\n",
       "Boston Consulting Group                     4\n",
       "AMERICAN EXPRESS GLOBAL BUSINESS TRAVEL     4\n",
       "Huptech HR Solutions                        4\n",
       "Accenture                                   4\n",
       "Institutional Shareholder Services          4\n",
       "Poshmark                                    4\n",
       "Imindyourbusiness                           4\n",
       "DXC Technology                              4\n",
       "Adecco Group                                3\n",
       "Multi Recruit                               3\n",
       "Checktronix                                 3\n",
       "T & A Solutions                             3\n",
       "Quess It Staffing                           3\n",
       "Lennox India Technology Centre (LITC)       3\n",
       "AARNA HR SOLUTIONS PVT. LTD.                3\n",
       "Lakshmi North East Solutions                3\n",
       "Primo Hiring                                3\n",
       "Automotive Robotics India                   3\n",
       "Aspyra HR Services                          3\n",
       "Talent                                      3\n",
       "Saavn, LLC                                  3\n",
       "Aspyra Hr Services                          3\n",
       "Saffron Consultancy Services                3\n",
       "Solytics Partners                           3\n",
       "Experian PLC                                3\n",
       "Pure Storage                                3\n",
       "Mediamath                                   3\n",
       "Otis                                        3\n",
       "Reubro                                      3\n",
       "Randstad                                    3\n",
       "M/S Aarons Visions                          3\n",
       "Name: company_name, dtype: int64"
      ]
     },
     "execution_count": 26,
     "metadata": {},
     "output_type": "execute_result"
    }
   ],
   "source": [
    "df['company_name'].value_counts().head(50)"
   ]
  },
  {
   "cell_type": "code",
   "execution_count": 27,
   "id": "f4e9f974",
   "metadata": {
    "scrolled": true
   },
   "outputs": [
    {
     "data": {
      "text/plain": [
       "array(['Data Analyst', 'Other', 'Business Analyst', 'HR Analyst',\n",
       "       'Data Science & Analytics - Other', 'Service Engineer',\n",
       "       'Investment Banking Analyst',\n",
       "       'Business Intelligence & Analytics - Other', 'Financial Analyst',\n",
       "       'Research & Development - Other', 'Social Media Marketing',\n",
       "       'Technical Consultant', 'IT & Information Security - Other',\n",
       "       'Software Development - Other', 'System Analyst',\n",
       "       'Database Analyst', 'MIS Executive',\n",
       "       'Non Tech Support - Voice / Blended', 'Technical Lead',\n",
       "       'Database Architect / Designer', 'Database Administrator',\n",
       "       'IT Support - Other', 'Marketing - Other',\n",
       "       'Analytics / BI Manager', 'Data Engineer', 'Statistician',\n",
       "       'MIS Manager', 'Database Developer / Engineer',\n",
       "       'Sales Support & Operations - Other',\n",
       "       'Market Research / Insights Head', 'Research Analyst',\n",
       "       'Back End Developer', 'Non Tech Support - Non Voice',\n",
       "       'Product Manager - Other', 'Regulatory Affairs Compliance',\n",
       "       'Security Engineer / Analyst',\n",
       "       'Business Development Manager (BDM)', 'Business - Other',\n",
       "       'Operations Support - Other', 'Team Leader', 'Technical Architect',\n",
       "       'BFSI', 'Production / Manufacturing Head', 'Data Scientist',\n",
       "       'DBA / Data warehousing - Other', 'Operations - Other',\n",
       "       'Analytics Consultant', 'Data warehouse Developer',\n",
       "       'IT Project Lead', 'Research Associate / Engineer',\n",
       "       'Manager - Data Science', 'Product Analyst',\n",
       "       'IT Consulting - Other', 'Branch Sales Executive',\n",
       "       'Accountant / Accounts Executive', 'Clinical research Scientist',\n",
       "       'Product Manager', 'Full Stack Developer',\n",
       "       'Customer Success Manager',\n",
       "       'Data warehouse Architect / Consultant', 'Research Scientist',\n",
       "       'HR Generalist', 'Recruitment & Talent Acquisition - Other',\n",
       "       'System Security Engineer', 'Sr. Consultant', 'Country Head',\n",
       "       'Logistics Executive', 'Technical Support - Voice / Blended',\n",
       "       'BI Developer', 'Market Research Manager',\n",
       "       'BD / Pre Sales - Other', 'Technical Support - Non Voice',\n",
       "       'Network Manager / Administrator'], dtype=object)"
      ]
     },
     "execution_count": 27,
     "metadata": {},
     "output_type": "execute_result"
    }
   ],
   "source": [
    "df['role'].unique()"
   ]
  },
  {
   "cell_type": "code",
   "execution_count": 28,
   "id": "b40b53c0",
   "metadata": {
    "scrolled": true
   },
   "outputs": [
    {
     "name": "stderr",
     "output_type": "stream",
     "text": [
      "C:\\Users\\Moham\\AppData\\Local\\Temp\\ipykernel_9384\\2213733213.py:1: FutureWarning: The default value of regex will change from True to False in a future version.\n",
      "  df['location'] = df['location'].str.replace(r'\\(.*\\)', '').str.replace(r'\\s.*', '').str.strip().str.rstrip(',')\n"
     ]
    }
   ],
   "source": [
    "# removes all substrings that are enclosed in parentheses, and strips spaces and commas\n",
    "df['location'] = df['location'].str.replace(r'\\(.*\\)', '').str.replace(r'\\s.*', '').str.strip().str.rstrip(',')"
   ]
  },
  {
   "cell_type": "code",
   "execution_count": 29,
   "id": "dcf38632",
   "metadata": {},
   "outputs": [
    {
     "data": {
      "text/plain": [
       "array(['Bangalore/Bengaluru', 'PAN', 'New', 'Chennai', 'Pune', 'India',\n",
       "       'Hyderabad/Secunderabad', 'Kolkata', 'Mumbai', 'Delhi',\n",
       "       'Gurgaon/Gurugram', 'Surat', 'Thane', 'Noida',\n",
       "       'Pondicherry/Puducherry', 'Ahmedabad', 'Faridabad', 'Remote',\n",
       "       'Bokaro', 'Lucknow', 'Kamrej', 'Navi', 'Bangalore/BengaluruView',\n",
       "       'Jaipur', 'Hiring', 'Bhubaneswar', 'Chandigarh', 'Mohali',\n",
       "       'Bengaluru', 'Coimbatore', 'Indore', 'Dharmapuri', 'Vadodara',\n",
       "       'Kochi/Cochin', 'remote', 'Dewas', 'Germany', 'Australia',\n",
       "       'Vijayawada', 'Gurgaon', 'Hyderabad', 'anywhere',\n",
       "       'Calicut/Kozhikode', 'Gandhinagar', 'Sikkim', 'mangalagiri',\n",
       "       'Udaipur', 'Bhilwara', 'Gokak', 'Sonipat/Sonepat', 'United',\n",
       "       'Ernakulam', 'Bellary/Ballari', 'Guwahati', 'Kochi', 'REMOTE',\n",
       "       'Rajkot', 'Solapur', 'Imphal', 'Dubai', 'Agartala', 'Chandrapur',\n",
       "       'Nagpur', 'Panaji/Panjim', 'Bhopal'], dtype=object)"
      ]
     },
     "execution_count": 29,
     "metadata": {},
     "output_type": "execute_result"
    }
   ],
   "source": [
    "df['location'].unique()"
   ]
  },
  {
   "cell_type": "code",
   "execution_count": 30,
   "id": "d7d7804f",
   "metadata": {},
   "outputs": [],
   "source": [
    "df.loc[df['location'] == 'Bangalore/BengaluruView', 'location'] = 'Bangalore/Bengaluru'\n",
    "df.loc[df['location'] == 'Bengaluru', 'location'] = 'Bangalore/Bengaluru'\n",
    "df.loc[df['location'] == 'Gurgaon', 'location'] = 'Gurgaon/Gurugram'\n",
    "df.loc[df['location'] == 'New', 'location'] = 'Delhi'\n",
    "df.loc[df['location'] == 'remote', 'location'] = 'Remote'\n",
    "df.loc[df['location'] == 'REMOTE', 'location'] = 'Remote'"
   ]
  },
  {
   "cell_type": "code",
   "execution_count": 31,
   "id": "cb014db3",
   "metadata": {},
   "outputs": [
    {
     "data": {
      "text/plain": [
       "Bangalore/Bengaluru       263\n",
       "Mumbai                    115\n",
       "Hyderabad/Secunderabad     85\n",
       "Pune                       79\n",
       "Gurgaon/Gurugram           75\n",
       "Chennai                    71\n",
       "Noida                      43\n",
       "Delhi                      42\n",
       "Remote                     37\n",
       "Kolkata                    19\n",
       "Ahmedabad                  14\n",
       "Hiring                     14\n",
       "Hyderabad                  11\n",
       "Mohali                      9\n",
       "Jaipur                      8\n",
       "Lucknow                     7\n",
       "India                       5\n",
       "Chandigarh                  5\n",
       "Surat                       5\n",
       "Kochi/Cochin                4\n",
       "Name: location, dtype: int64"
      ]
     },
     "execution_count": 31,
     "metadata": {},
     "output_type": "execute_result"
    }
   ],
   "source": [
    "df['location'].value_counts().head(20)"
   ]
  },
  {
   "cell_type": "code",
   "execution_count": 32,
   "id": "18300a2f",
   "metadata": {},
   "outputs": [],
   "source": [
    "# doing this to convert the column to integers\n",
    "df.loc[df['num_applicants'] == 'Less than 10', 'num_applicants'] = 10"
   ]
  },
  {
   "cell_type": "code",
   "execution_count": 33,
   "id": "8cbdde18",
   "metadata": {},
   "outputs": [],
   "source": [
    "df['num_applicants'] = df['num_applicants'].astype(int)"
   ]
  },
  {
   "cell_type": "code",
   "execution_count": 34,
   "id": "3228a532",
   "metadata": {},
   "outputs": [
    {
     "data": {
      "text/plain": [
       "83470"
      ]
     },
     "execution_count": 34,
     "metadata": {},
     "output_type": "execute_result"
    }
   ],
   "source": [
    "df['num_applicants'].max()"
   ]
  },
  {
   "cell_type": "code",
   "execution_count": 35,
   "id": "dbb19ba0",
   "metadata": {},
   "outputs": [
    {
     "data": {
      "text/plain": [
       "job_title                                               Data Analyst\n",
       "company_name                                     Quickxpert Infotech\n",
       "experience                                               0 - 5 years\n",
       "salary                                                 Not Disclosed\n",
       "location                                                     Kolkata\n",
       "job_description    We have immediate openings for Data Analyst Tr...\n",
       "role                                                    Data Analyst\n",
       "industry_type                             Analytics / KPO / Research\n",
       "department                                  Data Science & Analytics\n",
       "employment_type                                 Full Time, Permanent\n",
       "role_category                      Business Intelligence & Analytics\n",
       "education                                               Any Graduate\n",
       "key_skills         [SQL, python, C++, C, it, trainee, data analys...\n",
       "date_posted                                              12 days ago\n",
       "num_openings                                                     5.0\n",
       "num_applicants                                                 83470\n",
       "Name: 108, dtype: object"
      ]
     },
     "execution_count": 35,
     "metadata": {},
     "output_type": "execute_result"
    }
   ],
   "source": [
    "df.iloc[df['num_applicants'].idxmax()]"
   ]
  },
  {
   "cell_type": "code",
   "execution_count": 36,
   "id": "5a49d789",
   "metadata": {},
   "outputs": [
    {
     "data": {
      "text/plain": [
       "\"We have immediate openings for Data Analyst Trainees for our clients. Interested candidates can apply on naukri. don't call we will get back to you if shortlisted.\\n\\nPerks and benefits\\nas per standards\""
      ]
     },
     "execution_count": 36,
     "metadata": {},
     "output_type": "execute_result"
    }
   ],
   "source": [
    "df.iloc[df['num_applicants'].idxmax()].job_description"
   ]
  },
  {
   "cell_type": "code",
   "execution_count": 37,
   "id": "26825a1f",
   "metadata": {},
   "outputs": [
    {
     "data": {
      "text/plain": [
       "263.0"
      ]
     },
     "execution_count": 37,
     "metadata": {},
     "output_type": "execute_result"
    }
   ],
   "source": [
    "df['num_applicants'].median()"
   ]
  },
  {
   "cell_type": "code",
   "execution_count": 38,
   "id": "36d9764b",
   "metadata": {
    "scrolled": true
   },
   "outputs": [
    {
     "data": {
      "text/plain": [
       "array(['Data Analyst', 'Other', 'Business Analyst', 'HR Analyst',\n",
       "       'Data Science & Analytics - Other', 'Service Engineer',\n",
       "       'Investment Banking Analyst',\n",
       "       'Business Intelligence & Analytics - Other', 'Financial Analyst',\n",
       "       'Research & Development - Other', 'Social Media Marketing',\n",
       "       'Technical Consultant', 'IT & Information Security - Other',\n",
       "       'Software Development - Other', 'System Analyst',\n",
       "       'Database Analyst', 'MIS Executive',\n",
       "       'Non Tech Support - Voice / Blended', 'Technical Lead',\n",
       "       'Database Architect / Designer', 'Database Administrator',\n",
       "       'IT Support - Other', 'Marketing - Other',\n",
       "       'Analytics / BI Manager', 'Data Engineer', 'Statistician',\n",
       "       'MIS Manager', 'Database Developer / Engineer',\n",
       "       'Sales Support & Operations - Other',\n",
       "       'Market Research / Insights Head', 'Research Analyst',\n",
       "       'Back End Developer', 'Non Tech Support - Non Voice',\n",
       "       'Product Manager - Other', 'Regulatory Affairs Compliance',\n",
       "       'Security Engineer / Analyst',\n",
       "       'Business Development Manager (BDM)', 'Business - Other',\n",
       "       'Operations Support - Other', 'Team Leader', 'Technical Architect',\n",
       "       'BFSI', 'Production / Manufacturing Head', 'Data Scientist',\n",
       "       'DBA / Data warehousing - Other', 'Operations - Other',\n",
       "       'Analytics Consultant', 'Data warehouse Developer',\n",
       "       'IT Project Lead', 'Research Associate / Engineer',\n",
       "       'Manager - Data Science', 'Product Analyst',\n",
       "       'IT Consulting - Other', 'Branch Sales Executive',\n",
       "       'Accountant / Accounts Executive', 'Clinical research Scientist',\n",
       "       'Product Manager', 'Full Stack Developer',\n",
       "       'Customer Success Manager',\n",
       "       'Data warehouse Architect / Consultant', 'Research Scientist',\n",
       "       'HR Generalist', 'Recruitment & Talent Acquisition - Other',\n",
       "       'System Security Engineer', 'Sr. Consultant', 'Country Head',\n",
       "       'Logistics Executive', 'Technical Support - Voice / Blended',\n",
       "       'BI Developer', 'Market Research Manager',\n",
       "       'BD / Pre Sales - Other', 'Technical Support - Non Voice',\n",
       "       'Network Manager / Administrator'], dtype=object)"
      ]
     },
     "execution_count": 38,
     "metadata": {},
     "output_type": "execute_result"
    }
   ],
   "source": [
    "df['role'].unique()"
   ]
  },
  {
   "cell_type": "code",
   "execution_count": 39,
   "id": "8ce4488f",
   "metadata": {
    "scrolled": true
   },
   "outputs": [
    {
     "data": {
      "text/plain": [
       "Data Analyst                                          299\n",
       "Senior Data Analyst                                    65\n",
       "Lead Data Analyst                                      15\n",
       "Business Data Analyst                                  13\n",
       "Sr. Data Analyst                                       12\n",
       "Reference Data Analyst                                  9\n",
       "Senior Data Management Analyst                          8\n",
       "DATA ANALYST                                            7\n",
       "Sr Data Analyst                                         7\n",
       "Data Analyst 2                                          5\n",
       "data analyst                                            5\n",
       "data analyst / data analytics - US MNC (analytics)      5\n",
       "Associate Data Analyst                                  5\n",
       "Sr . Data Analyst                                       4\n",
       "Junior Data Analyst                                     4\n",
       "Lead Data Management Analyst                            4\n",
       "Senior Data Analyst - SQL/Python                        4\n",
       "HR Data Analyst                                         3\n",
       "Data Analyst IT and consulting                          3\n",
       "Financial Data Analyst                                  3\n",
       "Name: job_title, dtype: int64"
      ]
     },
     "execution_count": 39,
     "metadata": {},
     "output_type": "execute_result"
    }
   ],
   "source": [
    "df['job_title'].value_counts().head(20)"
   ]
  },
  {
   "cell_type": "code",
   "execution_count": 40,
   "id": "d6948dbc",
   "metadata": {},
   "outputs": [
    {
     "data": {
      "text/plain": [
       "array(['0 - 2 years', '0 - 1 years', '2 - 5 years', '0 - 5 years',\n",
       "       '7 - 12 years', '1 - 3 years', '4 - 7 years', '2 - 7 years',\n",
       "       '6 - 11 years', '10 - 15 years', '4 - 9 years', '0 - 3 years',\n",
       "       '4 - 8 years', '8 - 12 years', '5 - 8 years', '2 - 4 years',\n",
       "       '1 - 4 years', '8 - 13 years', '3 - 4 years', '3 - 6 years',\n",
       "       '5 - 10 years', '3 - 5 years', '3 - 7 years', '2 - 3 years',\n",
       "       '1 - 2 years', '7 - 10 years', '1 - 5 years', '7 - 9 years',\n",
       "       '3 - 10 years', '5 - 7 years', '0 - 6 years', '5 - 9 years',\n",
       "       '3 - 8 years', '4 - 6 years', '2 - 6 years', '8 - 10 years',\n",
       "       '6 - 9 years', '0 - 4 years', '10 - 20 years', '10 - 18 years',\n",
       "       '1 - 6 years', '6 - 8 years', '0 years', '5 - 6 years',\n",
       "       '8 - 11 years', '5 - 12 years', '4 - 5 years', '10 - 14 years',\n",
       "       '10 - 12 years', '1 - 12 years', '3 - 9 years', '14 - 20 years',\n",
       "       '7 - 8 years', '2 - 8 years', '7 - 14 years', '6 - 13 years',\n",
       "       '7 - 15 years', '11 - 16 years', '1 years', '7 - 11 years',\n",
       "       '15 - 18 years', '6 - 12 years', '8 - 9 years', '6 - 10 years',\n",
       "       '2 - 9 years', '9 - 14 years', '1 - 7 years'], dtype=object)"
      ]
     },
     "execution_count": 40,
     "metadata": {},
     "output_type": "execute_result"
    }
   ],
   "source": [
    "df['experience'].unique()"
   ]
  },
  {
   "cell_type": "code",
   "execution_count": 41,
   "id": "407c869a",
   "metadata": {},
   "outputs": [],
   "source": [
    "# converting all scattered experience column to few bins for easy visualisation\n",
    "bins = [0, 2, 5, 10, np.inf]\n",
    "df['experience_bins'] = pd.cut(df['experience'].str.extract('(\\d+)').astype(int)[0].to_list(), bins=bins, labels=['0-2', '2-5', '5-12', '12+'], right=False)"
   ]
  },
  {
   "cell_type": "code",
   "execution_count": 42,
   "id": "acba5757",
   "metadata": {
    "scrolled": true
   },
   "outputs": [
    {
     "data": {
      "text/html": [
       "<div>\n",
       "<style scoped>\n",
       "    .dataframe tbody tr th:only-of-type {\n",
       "        vertical-align: middle;\n",
       "    }\n",
       "\n",
       "    .dataframe tbody tr th {\n",
       "        vertical-align: top;\n",
       "    }\n",
       "\n",
       "    .dataframe thead th {\n",
       "        text-align: right;\n",
       "    }\n",
       "</style>\n",
       "<table border=\"1\" class=\"dataframe\">\n",
       "  <thead>\n",
       "    <tr style=\"text-align: right;\">\n",
       "      <th></th>\n",
       "      <th>experience</th>\n",
       "      <th>experience_bins</th>\n",
       "    </tr>\n",
       "  </thead>\n",
       "  <tbody>\n",
       "    <tr>\n",
       "      <th>0</th>\n",
       "      <td>0 - 2 years</td>\n",
       "      <td>0-2</td>\n",
       "    </tr>\n",
       "    <tr>\n",
       "      <th>1</th>\n",
       "      <td>0 - 1 years</td>\n",
       "      <td>0-2</td>\n",
       "    </tr>\n",
       "    <tr>\n",
       "      <th>2</th>\n",
       "      <td>0 - 2 years</td>\n",
       "      <td>0-2</td>\n",
       "    </tr>\n",
       "    <tr>\n",
       "      <th>3</th>\n",
       "      <td>0 - 2 years</td>\n",
       "      <td>0-2</td>\n",
       "    </tr>\n",
       "    <tr>\n",
       "      <th>4</th>\n",
       "      <td>2 - 5 years</td>\n",
       "      <td>2-5</td>\n",
       "    </tr>\n",
       "    <tr>\n",
       "      <th>5</th>\n",
       "      <td>0 - 2 years</td>\n",
       "      <td>0-2</td>\n",
       "    </tr>\n",
       "    <tr>\n",
       "      <th>6</th>\n",
       "      <td>0 - 5 years</td>\n",
       "      <td>0-2</td>\n",
       "    </tr>\n",
       "    <tr>\n",
       "      <th>7</th>\n",
       "      <td>7 - 12 years</td>\n",
       "      <td>5-12</td>\n",
       "    </tr>\n",
       "    <tr>\n",
       "      <th>8</th>\n",
       "      <td>0 - 1 years</td>\n",
       "      <td>0-2</td>\n",
       "    </tr>\n",
       "    <tr>\n",
       "      <th>9</th>\n",
       "      <td>1 - 3 years</td>\n",
       "      <td>0-2</td>\n",
       "    </tr>\n",
       "    <tr>\n",
       "      <th>10</th>\n",
       "      <td>0 - 2 years</td>\n",
       "      <td>0-2</td>\n",
       "    </tr>\n",
       "    <tr>\n",
       "      <th>11</th>\n",
       "      <td>0 - 2 years</td>\n",
       "      <td>0-2</td>\n",
       "    </tr>\n",
       "    <tr>\n",
       "      <th>12</th>\n",
       "      <td>0 - 2 years</td>\n",
       "      <td>0-2</td>\n",
       "    </tr>\n",
       "    <tr>\n",
       "      <th>13</th>\n",
       "      <td>0 - 2 years</td>\n",
       "      <td>0-2</td>\n",
       "    </tr>\n",
       "    <tr>\n",
       "      <th>14</th>\n",
       "      <td>4 - 7 years</td>\n",
       "      <td>2-5</td>\n",
       "    </tr>\n",
       "    <tr>\n",
       "      <th>15</th>\n",
       "      <td>2 - 7 years</td>\n",
       "      <td>2-5</td>\n",
       "    </tr>\n",
       "    <tr>\n",
       "      <th>16</th>\n",
       "      <td>6 - 11 years</td>\n",
       "      <td>5-12</td>\n",
       "    </tr>\n",
       "    <tr>\n",
       "      <th>17</th>\n",
       "      <td>0 - 1 years</td>\n",
       "      <td>0-2</td>\n",
       "    </tr>\n",
       "    <tr>\n",
       "      <th>18</th>\n",
       "      <td>10 - 15 years</td>\n",
       "      <td>12+</td>\n",
       "    </tr>\n",
       "    <tr>\n",
       "      <th>19</th>\n",
       "      <td>4 - 9 years</td>\n",
       "      <td>2-5</td>\n",
       "    </tr>\n",
       "    <tr>\n",
       "      <th>20</th>\n",
       "      <td>0 - 2 years</td>\n",
       "      <td>0-2</td>\n",
       "    </tr>\n",
       "    <tr>\n",
       "      <th>21</th>\n",
       "      <td>0 - 2 years</td>\n",
       "      <td>0-2</td>\n",
       "    </tr>\n",
       "    <tr>\n",
       "      <th>22</th>\n",
       "      <td>0 - 2 years</td>\n",
       "      <td>0-2</td>\n",
       "    </tr>\n",
       "    <tr>\n",
       "      <th>23</th>\n",
       "      <td>0 - 1 years</td>\n",
       "      <td>0-2</td>\n",
       "    </tr>\n",
       "    <tr>\n",
       "      <th>24</th>\n",
       "      <td>0 - 3 years</td>\n",
       "      <td>0-2</td>\n",
       "    </tr>\n",
       "    <tr>\n",
       "      <th>25</th>\n",
       "      <td>4 - 8 years</td>\n",
       "      <td>2-5</td>\n",
       "    </tr>\n",
       "    <tr>\n",
       "      <th>26</th>\n",
       "      <td>8 - 12 years</td>\n",
       "      <td>5-12</td>\n",
       "    </tr>\n",
       "    <tr>\n",
       "      <th>27</th>\n",
       "      <td>5 - 8 years</td>\n",
       "      <td>5-12</td>\n",
       "    </tr>\n",
       "    <tr>\n",
       "      <th>28</th>\n",
       "      <td>2 - 4 years</td>\n",
       "      <td>2-5</td>\n",
       "    </tr>\n",
       "    <tr>\n",
       "      <th>29</th>\n",
       "      <td>2 - 4 years</td>\n",
       "      <td>2-5</td>\n",
       "    </tr>\n",
       "    <tr>\n",
       "      <th>30</th>\n",
       "      <td>0 - 2 years</td>\n",
       "      <td>0-2</td>\n",
       "    </tr>\n",
       "    <tr>\n",
       "      <th>31</th>\n",
       "      <td>1 - 4 years</td>\n",
       "      <td>0-2</td>\n",
       "    </tr>\n",
       "    <tr>\n",
       "      <th>32</th>\n",
       "      <td>4 - 7 years</td>\n",
       "      <td>2-5</td>\n",
       "    </tr>\n",
       "    <tr>\n",
       "      <th>33</th>\n",
       "      <td>8 - 13 years</td>\n",
       "      <td>5-12</td>\n",
       "    </tr>\n",
       "    <tr>\n",
       "      <th>34</th>\n",
       "      <td>3 - 4 years</td>\n",
       "      <td>2-5</td>\n",
       "    </tr>\n",
       "    <tr>\n",
       "      <th>35</th>\n",
       "      <td>3 - 4 years</td>\n",
       "      <td>2-5</td>\n",
       "    </tr>\n",
       "    <tr>\n",
       "      <th>36</th>\n",
       "      <td>1 - 3 years</td>\n",
       "      <td>0-2</td>\n",
       "    </tr>\n",
       "    <tr>\n",
       "      <th>37</th>\n",
       "      <td>0 - 2 years</td>\n",
       "      <td>0-2</td>\n",
       "    </tr>\n",
       "    <tr>\n",
       "      <th>38</th>\n",
       "      <td>0 - 2 years</td>\n",
       "      <td>0-2</td>\n",
       "    </tr>\n",
       "    <tr>\n",
       "      <th>39</th>\n",
       "      <td>0 - 3 years</td>\n",
       "      <td>0-2</td>\n",
       "    </tr>\n",
       "    <tr>\n",
       "      <th>40</th>\n",
       "      <td>4 - 8 years</td>\n",
       "      <td>2-5</td>\n",
       "    </tr>\n",
       "    <tr>\n",
       "      <th>41</th>\n",
       "      <td>3 - 6 years</td>\n",
       "      <td>2-5</td>\n",
       "    </tr>\n",
       "    <tr>\n",
       "      <th>42</th>\n",
       "      <td>1 - 4 years</td>\n",
       "      <td>0-2</td>\n",
       "    </tr>\n",
       "    <tr>\n",
       "      <th>43</th>\n",
       "      <td>5 - 10 years</td>\n",
       "      <td>5-12</td>\n",
       "    </tr>\n",
       "    <tr>\n",
       "      <th>44</th>\n",
       "      <td>3 - 5 years</td>\n",
       "      <td>2-5</td>\n",
       "    </tr>\n",
       "    <tr>\n",
       "      <th>45</th>\n",
       "      <td>3 - 6 years</td>\n",
       "      <td>2-5</td>\n",
       "    </tr>\n",
       "    <tr>\n",
       "      <th>46</th>\n",
       "      <td>3 - 6 years</td>\n",
       "      <td>2-5</td>\n",
       "    </tr>\n",
       "    <tr>\n",
       "      <th>47</th>\n",
       "      <td>3 - 7 years</td>\n",
       "      <td>2-5</td>\n",
       "    </tr>\n",
       "    <tr>\n",
       "      <th>48</th>\n",
       "      <td>2 - 3 years</td>\n",
       "      <td>2-5</td>\n",
       "    </tr>\n",
       "    <tr>\n",
       "      <th>49</th>\n",
       "      <td>1 - 2 years</td>\n",
       "      <td>0-2</td>\n",
       "    </tr>\n",
       "  </tbody>\n",
       "</table>\n",
       "</div>"
      ],
      "text/plain": [
       "       experience experience_bins\n",
       "0     0 - 2 years             0-2\n",
       "1     0 - 1 years             0-2\n",
       "2     0 - 2 years             0-2\n",
       "3     0 - 2 years             0-2\n",
       "4     2 - 5 years             2-5\n",
       "5     0 - 2 years             0-2\n",
       "6     0 - 5 years             0-2\n",
       "7    7 - 12 years            5-12\n",
       "8     0 - 1 years             0-2\n",
       "9     1 - 3 years             0-2\n",
       "10    0 - 2 years             0-2\n",
       "11    0 - 2 years             0-2\n",
       "12    0 - 2 years             0-2\n",
       "13    0 - 2 years             0-2\n",
       "14    4 - 7 years             2-5\n",
       "15    2 - 7 years             2-5\n",
       "16   6 - 11 years            5-12\n",
       "17    0 - 1 years             0-2\n",
       "18  10 - 15 years             12+\n",
       "19    4 - 9 years             2-5\n",
       "20    0 - 2 years             0-2\n",
       "21    0 - 2 years             0-2\n",
       "22    0 - 2 years             0-2\n",
       "23    0 - 1 years             0-2\n",
       "24    0 - 3 years             0-2\n",
       "25    4 - 8 years             2-5\n",
       "26   8 - 12 years            5-12\n",
       "27    5 - 8 years            5-12\n",
       "28    2 - 4 years             2-5\n",
       "29    2 - 4 years             2-5\n",
       "30    0 - 2 years             0-2\n",
       "31    1 - 4 years             0-2\n",
       "32    4 - 7 years             2-5\n",
       "33   8 - 13 years            5-12\n",
       "34    3 - 4 years             2-5\n",
       "35    3 - 4 years             2-5\n",
       "36    1 - 3 years             0-2\n",
       "37    0 - 2 years             0-2\n",
       "38    0 - 2 years             0-2\n",
       "39    0 - 3 years             0-2\n",
       "40    4 - 8 years             2-5\n",
       "41    3 - 6 years             2-5\n",
       "42    1 - 4 years             0-2\n",
       "43   5 - 10 years            5-12\n",
       "44    3 - 5 years             2-5\n",
       "45    3 - 6 years             2-5\n",
       "46    3 - 6 years             2-5\n",
       "47    3 - 7 years             2-5\n",
       "48    2 - 3 years             2-5\n",
       "49    1 - 2 years             0-2"
      ]
     },
     "execution_count": 42,
     "metadata": {},
     "output_type": "execute_result"
    }
   ],
   "source": [
    "df[['experience', 'experience_bins']].head(50)"
   ]
  },
  {
   "cell_type": "code",
   "execution_count": 44,
   "id": "3315e740",
   "metadata": {},
   "outputs": [],
   "source": [
    "# df.to_csv('naukri_data.csv', index=False)"
   ]
  }
 ],
 "metadata": {
  "kernelspec": {
   "display_name": "Python 3 (ipykernel)",
   "language": "python",
   "name": "python3"
  },
  "language_info": {
   "codemirror_mode": {
    "name": "ipython",
    "version": 3
   },
   "file_extension": ".py",
   "mimetype": "text/x-python",
   "name": "python",
   "nbconvert_exporter": "python",
   "pygments_lexer": "ipython3",
   "version": "3.9.9"
  }
 },
 "nbformat": 4,
 "nbformat_minor": 5
}
